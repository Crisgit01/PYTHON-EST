{
 "cells": [
  {
   "cell_type": "markdown",
   "metadata": {},
   "source": [
    "### Inicio del Software"
   ]
  },
  {
   "cell_type": "code",
   "execution_count": 16,
   "metadata": {},
   "outputs": [],
   "source": [
    "#### Libreria y comentar si se abre o no el software\n",
    "\n",
    "import os\n",
    "import sys\n",
    "import comtypes.client\n",
    "\n",
    "#set the following flag to True to attach to an existing instance of the program\n",
    "#otherwise a new instance of the program will be started\n",
    "\n",
    "# False = Arranca\n",
    "# True = Trabaja con modelo existente\n",
    "\n",
    "AttachToInstance = False"
   ]
  },
  {
   "cell_type": "code",
   "execution_count": 17,
   "metadata": {},
   "outputs": [
    {
     "name": "stderr",
     "output_type": "stream",
     "text": [
      "<>:7: SyntaxWarning: invalid escape sequence '\\P'\n",
      "<>:11: SyntaxWarning: invalid escape sequence '\\C'\n",
      "<>:7: SyntaxWarning: invalid escape sequence '\\P'\n",
      "<>:11: SyntaxWarning: invalid escape sequence '\\C'\n",
      "C:\\Users\\cristian.pocohuanca\\AppData\\Local\\Temp\\ipykernel_12444\\1257395953.py:7: SyntaxWarning: invalid escape sequence '\\P'\n",
      "  ProgramPath = \"C:\\Program Files\\Computers and Structures\\ETABS 20\\ETABS.exe\"\n",
      "C:\\Users\\cristian.pocohuanca\\AppData\\Local\\Temp\\ipykernel_12444\\1257395953.py:11: SyntaxWarning: invalid escape sequence '\\C'\n",
      "  APIPath = 'C:\\CSi_ETABS_API_Example'\n"
     ]
    }
   ],
   "source": [
    "#Establezca el siguiente indicador en verdadero para especificar manualmente la ruta a Etabs.exe\n",
    "#Esto permite una conexión a una versión de ETAB que no sea la última instalación.\n",
    "#De lo contrario, se lanzará la última versión instalada de ETABS\n",
    "SpecifyPath = False\n",
    "\n",
    "#Si el indicador anterior se establece en verdadero, especifique la ruta a los ETAB a continuación\n",
    "ProgramPath = \"C:\\Program Files\\Computers and Structures\\ETABS 20\\ETABS.exe\"\n",
    "\n",
    "#camino completo al modelo\n",
    "#Configurarlo en la ruta deseada de su modelo\n",
    "APIPath = 'C:\\CSi_ETABS_API_Example'\n",
    "if not os.path.exists(APIPath):\n",
    "    try:\n",
    "        os.makedirs(APIPath)\n",
    "    except OSError:\n",
    "        pass\n",
    "ModelPath = APIPath + os.sep + 'API_1-001.edb'\n",
    "\n",
    "#create API helper object\n",
    "helper = comtypes.client.CreateObject('ETABSv1.Helper')\n",
    "helper = helper.QueryInterface(comtypes.gen.ETABSv1.cHelper)\n",
    "\n",
    "if AttachToInstance:\n",
    "    #attach to a running instance of ETABS\n",
    "    try:\n",
    "        #get the active ETABS object\n",
    "        myETABSObject = helper.GetObject(\"CSI.ETABS.API.ETABSObject\") \n",
    "    except (OSError, comtypes.COMError):\n",
    "        print(\"No running instance of the program found or failed to attach.\")\n",
    "        sys.exit(-1)\n",
    "else:\n",
    "    if SpecifyPath:\n",
    "        try:\n",
    "            #'create an instance of the ETABS object from the specified path\n",
    "            myETABSObject = helper.CreateObject(ProgramPath)\n",
    "        except (OSError, comtypes.COMError):\n",
    "            print(\"Cannot start a new instance of the program from \" + ProgramPath)\n",
    "            sys.exit(-1)\n",
    "    else:\n",
    "        try: \n",
    "            #create an instance of the ETABS object from the latest installed ETABS\n",
    "            myETABSObject = helper.CreateObjectProgID(\"CSI.ETABS.API.ETABSObject\") \n",
    "        except (OSError, comtypes.COMError):\n",
    "            print(\"Cannot start a new instance of the program.\")\n",
    "            sys.exit(-1)\n",
    "\n",
    "    #start ETABS application\n",
    "    myETABSObject.ApplicationStart()\n",
    "\n",
    "#create SapModel object\n",
    "SapModel = myETABSObject.SapModel\n",
    "\n",
    "#initialize model\n",
    "SapModel.InitializeNewModel()\n",
    "\n",
    "#create new blank model\n",
    "ret = SapModel.File.NewBlank()"
   ]
  },
  {
   "cell_type": "code",
   "execution_count": 20,
   "metadata": {},
   "outputs": [
    {
     "data": {
      "text/plain": [
       "0"
      ]
     },
     "execution_count": 20,
     "metadata": {},
     "output_type": "execute_result"
    }
   ],
   "source": [
    "#define material property\n",
    "MATERIAL_CONCRETE = 2\n",
    "ret = SapModel.PropMaterial.SetMaterial('CONC', MATERIAL_CONCRETE)\n",
    "ret"
   ]
  },
  {
   "cell_type": "code",
   "execution_count": 21,
   "metadata": {},
   "outputs": [
    {
     "data": {
      "text/plain": [
       "0"
      ]
     },
     "execution_count": 21,
     "metadata": {},
     "output_type": "execute_result"
    }
   ],
   "source": [
    "#define material property\n",
    "MATERIAL_CONCRETE = 6\n",
    "ret = SapModel.PropMaterial.SetMaterial('ACERO DE REFUERZO', MATERIAL_CONCRETE)\n",
    "ret"
   ]
  },
  {
   "cell_type": "code",
   "execution_count": 22,
   "metadata": {},
   "outputs": [
    {
     "data": {
      "text/plain": [
       "0"
      ]
     },
     "execution_count": 22,
     "metadata": {},
     "output_type": "execute_result"
    }
   ],
   "source": [
    "#assign isotropic mechanical properties to material\n",
    "ret = SapModel.PropMaterial.SetMPIsotropic('CONC', 3600, 0.2, 0.0000055)\n",
    "ret"
   ]
  },
  {
   "cell_type": "code",
   "execution_count": 23,
   "metadata": {},
   "outputs": [
    {
     "data": {
      "text/plain": [
       "0"
      ]
     },
     "execution_count": 23,
     "metadata": {},
     "output_type": "execute_result"
    }
   ],
   "source": [
    "#assign isotropic mechanical properties to material\n",
    "ret = SapModel.PropMaterial.SetMPIsotropic('CONC', 3600, 0.2, 0.0000055)\n",
    "ret"
   ]
  },
  {
   "cell_type": "code",
   "execution_count": 25,
   "metadata": {},
   "outputs": [
    {
     "data": {
      "text/plain": [
       "0"
      ]
     },
     "execution_count": 25,
     "metadata": {},
     "output_type": "execute_result"
    }
   ],
   "source": [
    "#define rectangular frame section property\n",
    "ret = SapModel.PropFrame.SetRectangle('R1', 'CONC', 12, 12)\n",
    "ret"
   ]
  },
  {
   "cell_type": "code",
   "execution_count": 26,
   "metadata": {},
   "outputs": [
    {
     "data": {
      "text/plain": [
       "[(1000.0, 0.0, 0.0, 1.0, 1.0, 1.0, 1.0, 1.0), 0]"
      ]
     },
     "execution_count": 26,
     "metadata": {},
     "output_type": "execute_result"
    }
   ],
   "source": [
    "#define frame section property modifiers\n",
    "ModValue = [1000, 0, 0, 1, 1, 1, 1, 1]\n",
    "ret = SapModel.PropFrame.SetModifiers('R1', ModValue)\n",
    "ret"
   ]
  },
  {
   "cell_type": "code",
   "execution_count": 28,
   "metadata": {},
   "outputs": [],
   "source": [
    "#switch to k-ft units\n",
    "kip_ft_F = 4\n",
    "ret = SapModel.SetPresentUnits(kip_ft_F)\n",
    "\n",
    "#add frame object by coordinates\n",
    "FrameName1 = ' '\n",
    "FrameName2 = ' '\n",
    "FrameName3 = ' '\n",
    "[FrameName1, ret] = SapModel.FrameObj.AddByCoord(0, 0, 0, 0, 0, 10, FrameName1, 'R1', '1', 'Global')\n",
    "[FrameName2, ret] = SapModel.FrameObj.AddByCoord(0, 0, 10, 8, 0, 16, FrameName2, 'R1', '2', 'Global')\n",
    "[FrameName3, ret] = SapModel.FrameObj.AddByCoord(-4, 0, 10, 0, 0, 10, FrameName3, 'R1', '3', 'Global')\n"
   ]
  },
  {
   "cell_type": "code",
   "execution_count": 29,
   "metadata": {},
   "outputs": [],
   "source": [
    "#assign point object restraint at base\n",
    "PointName1 = ' '\n",
    "PointName2 = ' '\n",
    "Restraint = [True, True, True, True, False, False]\n",
    "[PointName1, PointName2, ret] = SapModel.FrameObj.GetPoints(FrameName1, PointName1, PointName2)\n",
    "ret = SapModel.PointObj.SetRestraint(PointName1, Restraint)\n",
    "\n",
    "#assign point object restraint at top\n",
    "Restraint = [True, True, False, False, False, False]\n",
    "[PointName1, PointName2, ret] = SapModel.FrameObj.GetPoints(FrameName2, PointName1, PointName2)\n",
    "ret = SapModel.PointObj.SetRestraint(PointName2, Restraint)"
   ]
  },
  {
   "cell_type": "code",
   "execution_count": 30,
   "metadata": {},
   "outputs": [
    {
     "data": {
      "text/plain": [
       "['1', '2', 0]"
      ]
     },
     "execution_count": 30,
     "metadata": {},
     "output_type": "execute_result"
    }
   ],
   "source": [
    "PointName1 = ' '\n",
    "PointName2 = ' '\n",
    "ret = SapModel.FrameObj.GetPoints('1', PointName1, PointName2)\n",
    "ret"
   ]
  },
  {
   "cell_type": "code",
   "execution_count": 31,
   "metadata": {},
   "outputs": [],
   "source": [
    "#refresh view, update (initialize) zoom\n",
    "ret = SapModel.View.RefreshView(0, False)\n",
    "\n",
    "#add load patterns\n",
    "LTYPE_OTHER = 8\n",
    "ret = SapModel.LoadPatterns.Add('1', LTYPE_OTHER, 1, True)\n",
    "ret = SapModel.LoadPatterns.Add('2', LTYPE_OTHER, 0, True)\n",
    "ret = SapModel.LoadPatterns.Add('3', LTYPE_OTHER, 0, True)\n",
    "ret = SapModel.LoadPatterns.Add('4', LTYPE_OTHER, 0, True)\n",
    "ret = SapModel.LoadPatterns.Add('5', LTYPE_OTHER, 0, True)\n",
    "ret = SapModel.LoadPatterns.Add('6', LTYPE_OTHER, 0, True)\n",
    "ret = SapModel.LoadPatterns.Add('7', LTYPE_OTHER, 0, True)\n",
    "\n",
    "#assign loading for load pattern 2\n",
    "[PointName1, PointName2, ret] = SapModel.FrameObj.GetPoints(FrameName3, PointName1, PointName2)\n",
    "PointLoadValue = [0,0,-10,0,0,0]\n",
    "ret = SapModel.PointObj.SetLoadForce(PointName1, '2', PointLoadValue)\n",
    "ret = SapModel.FrameObj.SetLoadDistributed(FrameName3, '2', 1, 10, 0, 1, 1.8, 1.8)\n",
    "\n",
    "#assign loading for load pattern 3\n",
    "[PointName1, PointName2, ret] = SapModel.FrameObj.GetPoints(FrameName3, PointName1, PointName2)\n",
    "PointLoadValue = [0,0,-17.2,0,-54.4,0]\n",
    "ret = SapModel.PointObj.SetLoadForce(PointName2, '3', PointLoadValue)\n",
    "\n",
    "#assign loading for load pattern 4\n",
    "ret = SapModel.FrameObj.SetLoadDistributed(FrameName2, '4', 1, 11, 0, 1, 2, 2)\n",
    "\n",
    "#assign loading for load pattern 5\n",
    "ret = SapModel.FrameObj.SetLoadDistributed(FrameName1, '5', 1, 2, 0, 1, 2, 2, 'Local')\n",
    "ret = SapModel.FrameObj.SetLoadDistributed(FrameName2, '5', 1, 2, 0, 1, -2, -2, 'Local')\n",
    "\n",
    "#assign loading for load pattern 6\n",
    "ret = SapModel.FrameObj.SetLoadDistributed(FrameName1, '6', 1, 2, 0, 1, 0.9984, 0.3744, 'Local')\n",
    "ret = SapModel.FrameObj.SetLoadDistributed(FrameName2, '6', 1, 2, 0, 1, -0.3744, 0, 'Local')\n",
    "\n",
    "#assign loading for load pattern 7\n",
    "ret = SapModel.FrameObj.SetLoadPoint(FrameName2, '7', 1, 2, 0.5, -15, 'Local')\n",
    "\n",
    "#switch to k-in units\n",
    "kip_in_F = 3\n",
    "ret = SapModel.SetPresentUnits(kip_in_F)"
   ]
  },
  {
   "cell_type": "code",
   "execution_count": 36,
   "metadata": {},
   "outputs": [],
   "source": [
    "#save model\n",
    "ret = SapModel.File.Save(ModelPath)\n",
    "\n",
    "#run model (this will create the analysis model)\n",
    "ret = SapModel.Analyze.RunAnalysis()"
   ]
  },
  {
   "cell_type": "code",
   "execution_count": 38,
   "metadata": {},
   "outputs": [
    {
     "ename": "IndexError",
     "evalue": "tuple index out of range",
     "output_type": "error",
     "traceback": [
      "\u001b[31m---------------------------------------------------------------------------\u001b[39m",
      "\u001b[31mIndexError\u001b[39m                                Traceback (most recent call last)",
      "\u001b[36mCell\u001b[39m\u001b[36m \u001b[39m\u001b[32mIn[38]\u001b[39m\u001b[32m, line 24\u001b[39m\n\u001b[32m     22\u001b[39m \u001b[38;5;28;01mif\u001b[39;00m i <= \u001b[32m3\u001b[39m:\n\u001b[32m     23\u001b[39m     [NumberResults, Obj, Elm, ACase, StepType, StepNum, U1, U2, U3, R1, R2, R3, ret] = SapModel.Results.JointDispl(PointName2, ObjectElm, NumberResults, Obj, Elm, ACase, StepType, StepNum, U1, U2, U3, R1, R2, R3)\n\u001b[32m---> \u001b[39m\u001b[32m24\u001b[39m     ProgramResult[i] = \u001b[43mU3\u001b[49m\u001b[43m[\u001b[49m\u001b[32;43m0\u001b[39;49m\u001b[43m]\u001b[49m\n\u001b[32m     25\u001b[39m \u001b[38;5;28;01melse\u001b[39;00m:\n\u001b[32m     26\u001b[39m     [NumberResults, Obj, Elm, ACase, StepType, StepNum, U1, U2, U3, R1, R2, R3, ret] = SapModel.Results.JointDispl(PointName1, ObjectElm, NumberResults, Obj, Elm, ACase, StepType, StepNum, U1, U2, U3, R1, R2, R3)\n",
      "\u001b[31mIndexError\u001b[39m: tuple index out of range"
     ]
    }
   ],
   "source": [
    "#initialize for results\n",
    "ProgramResult = [0,0,0,0,0,0,0]\n",
    "[PointName1, PointName2, ret] = SapModel.FrameObj.GetPoints(FrameName2, PointName1, PointName2)\n",
    "\n",
    "#get results for load cases 1 through 7\n",
    "for i in range(0,7):\n",
    "      NumberResults = 0\n",
    "      Obj = []\n",
    "      Elm = []\n",
    "      ACase = []\n",
    "      StepType = []\n",
    "      StepNum = []\n",
    "      U1 = []\n",
    "      U2 = []\n",
    "      U3 = []\n",
    "      R1 = []\n",
    "      R2 = []\n",
    "      R3 = []\n",
    "      ObjectElm = 0\n",
    "      ret = SapModel.Results.Setup.DeselectAllCasesAndCombosForOutput()\n",
    "      ret = SapModel.Results.Setup.SetCaseSelectedForOutput(str(i + 1))\n",
    "      if i <= 3:\n",
    "          [NumberResults, Obj, Elm, ACase, StepType, StepNum, U1, U2, U3, R1, R2, R3, ret] = SapModel.Results.JointDispl(PointName2, ObjectElm, NumberResults, Obj, Elm, ACase, StepType, StepNum, U1, U2, U3, R1, R2, R3)\n",
    "          ProgramResult[i] = U3[0]\n",
    "      else:\n",
    "          [NumberResults, Obj, Elm, ACase, StepType, StepNum, U1, U2, U3, R1, R2, R3, ret] = SapModel.Results.JointDispl(PointName1, ObjectElm, NumberResults, Obj, Elm, ACase, StepType, StepNum, U1, U2, U3, R1, R2, R3)\n",
    "          ProgramResult[i] = U1[0]\n",
    "\n",
    "\n",
    "#fill independent results\n",
    "IndResult = [0,0,0,0,0,0,0]\n",
    "IndResult[0] = -0.02639\n",
    "IndResult[1] = 0.06296\n",
    "IndResult[2] = 0.06296\n",
    "IndResult[3] = -0.2963\n",
    "IndResult[4] = 0.3125\n",
    "IndResult[5] = 0.11556\n",
    "IndResult[6] = 0.00651\n",
    "\n",
    "#fill percent difference\n",
    "PercentDiff = [0,0,0,0,0,0,0]\n",
    "for i in range(0,7):\n",
    "      PercentDiff[i] = (ProgramResult[i] / IndResult[i]) - 1\n",
    "\n",
    "#display results\n",
    "for i in range(0,7):\n",
    "      print()\n",
    "      print(ProgramResult[i])\n",
    "      print(IndResult[i])\n",
    "      print(PercentDiff[i])"
   ]
  },
  {
   "cell_type": "code",
   "execution_count": 39,
   "metadata": {},
   "outputs": [],
   "source": [
    "#close the program\n",
    "ret = myETABSObject.ApplicationExit(False)\n",
    "SapModel = None\n",
    "myETABSObject = None"
   ]
  }
 ],
 "metadata": {
  "kernelspec": {
   "display_name": "base",
   "language": "python",
   "name": "python3"
  },
  "language_info": {
   "codemirror_mode": {
    "name": "ipython",
    "version": 3
   },
   "file_extension": ".py",
   "mimetype": "text/x-python",
   "name": "python",
   "nbconvert_exporter": "python",
   "pygments_lexer": "ipython3",
   "version": "3.12.9"
  },
  "orig_nbformat": 4
 },
 "nbformat": 4,
 "nbformat_minor": 2
}
