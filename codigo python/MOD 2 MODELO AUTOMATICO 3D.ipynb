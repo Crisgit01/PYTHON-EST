{
 "cells": [
  {
   "cell_type": "markdown",
   "metadata": {},
   "source": [
    "## Librerias y conexión al software"
   ]
  },
  {
   "cell_type": "code",
   "execution_count": 1,
   "metadata": {},
   "outputs": [],
   "source": [
    "import os\n",
    "import sys\n",
    "import comtypes.client\n",
    "import math\n",
    "import pandas as pd\n",
    "import numpy as np\n",
    "import matplotlib.pyplot as plt\n",
    "\n",
    "AttachToInstance = False\n",
    "\n",
    "SpecifyPath = True\n",
    "\n",
    "# Especificar la ruta de ETABS a continuación\n",
    "ProgramPath = \"C:\\Program Files\\Computers and Structures\\ETABS 19\\ETABS.exe\"\n",
    "\n",
    "\n",
    "\n",
    "# crear objeto API helper\n",
    "helper = comtypes.client.CreateObject('ETABSv1.Helper')\n",
    "helper = helper.QueryInterface(comtypes.gen.ETABSv1.cHelper)\n",
    "\n",
    "if AttachToInstance:\n",
    "    try:\n",
    "        # obtener el objeto ETABS activo\n",
    "        myETABSObject = helper.GetObject(\"CSI.ETABS.API.ETABSObject\") \n",
    "    except (OSError, comtypes.COMError):\n",
    "        print(\"No running instance of the program found or failed to attach.\")\n",
    "        sys.exit(-1)\n",
    "else:\n",
    "    if SpecifyPath:\n",
    "        try:\n",
    "            # crear una instancia del objeto ETABS a partir de la ruta especificada\n",
    "            myETABSObject = helper.CreateObject(ProgramPath)\n",
    "        except (OSError, comtypes.COMError):\n",
    "            print(\"Cannot start a new instance of the program from \" + ProgramPath)\n",
    "            sys.exit(-1)\n",
    "    else:\n",
    "        try: \n",
    "            # crear una instancia del objeto ETABS a partir del último ETABS instalado\n",
    "            myETABSObject = helper.CreateObjectProgID(\"CSI.ETABS.API.ETABSObject\") \n",
    "        except (OSError, comtypes.COMError):\n",
    "            print(\"Cannot start a new instance of the program.\")\n",
    "            sys.exit(-1)\n",
    "\n",
    "    # Comenzar la aplicacion de ETABS\n",
    "    myETABSObject.ApplicationStart()\n",
    "\n",
    "# Crear un objeto SapModel\n",
    "ret = SapModel = myETABSObject.SapModel\n",
    "\n",
    "# Iniciar Modelo\n",
    "ret = SapModel.InitializeNewModel()\n",
    "\n"
   ]
  },
  {
   "cell_type": "markdown",
   "metadata": {},
   "source": [
    "## Creación de las grillas y unidades\n",
    "\n",
    "Las grillas siempre trabajan en pies, así uno le coloque otras unidades"
   ]
  },
  {
   "cell_type": "code",
   "execution_count": 2,
   "metadata": {},
   "outputs": [],
   "source": [
    "# VARIABLES\n",
    "pisos=5\n",
    "hpiso1=4\n",
    "hpiso=3\n",
    "numx=4\n",
    "numy=5\n",
    "espaciamientox=3.5\n",
    "espaciamientoy=2.5\n",
    "\n",
    "# Crear Grillas\n",
    "ret = SapModel.File.NewGridOnly(pisos,   # Número de pisos\n",
    "                                hpiso*3.28084,   # altura típico de piso a partir del segundo\n",
    "                                hpiso1*3.28084,   # Altura del primer nivel\n",
    "                                numx,    # Número de grillas en X\n",
    "                                numy,     # Número de grillas en Y\n",
    "                                espaciamientox*3.28084,    # Espaciamiento en X\n",
    "                                espaciamientoy*3.28084)    # Espaciamiento en Y\n",
    "\n",
    "# Ton_m_C = 12\n",
    "tonf_m_C = 12\n",
    "ret = SapModel.SetPresentUnits(tonf_m_C)\n",
    "\n",
    "ret = SapModel.View.RefreshView(0, False)"
   ]
  },
  {
   "cell_type": "markdown",
   "metadata": {},
   "source": [
    "## Creación de vigas"
   ]
  },
  {
   "cell_type": "code",
   "execution_count": 3,
   "metadata": {},
   "outputs": [],
   "source": [
    "#ret = SapModel.FrameObj.AddByCoord(0, 0, 4, 3, 0, 4, 'ConcBm')\n",
    "#ret"
   ]
  },
  {
   "cell_type": "code",
   "execution_count": 4,
   "metadata": {},
   "outputs": [],
   "source": [
    "# Iterar a través de los pisos\n",
    "for nivel in range(1, pisos + 1):\n",
    "    # Calcular la altura del nivel actual\n",
    "    if nivel == 1:\n",
    "        altura_nivel = hpiso1\n",
    "    else:\n",
    "        altura_nivel = hpiso * (nivel - 1) + hpiso1\n",
    "\n",
    "    # Crear vigas horizontales por tramos\n",
    "    for j in range(numy):\n",
    "        for i in range(numx - 1):\n",
    "            x1 = i * espaciamientox\n",
    "            x2 = (i + 1) * espaciamientox\n",
    "            y = j * espaciamientoy\n",
    "            ret = SapModel.FrameObj.AddByCoord(x1, y, altura_nivel, x2, y, altura_nivel,\"\", 'ConcBm', '', 'Global')\n",
    "\n",
    "    # Crear vigas verticales por tramos\n",
    "    for i in range(numx):\n",
    "        for j in range(numy - 1):\n",
    "            x = i * espaciamientox\n",
    "            y1 = j * espaciamientoy\n",
    "            y2 = (j + 1) * espaciamientoy\n",
    "            ret = SapModel.FrameObj.AddByCoord(x, y1, altura_nivel, x, y2, altura_nivel,\"\", 'ConcBm', '', 'Global')\n",
    "\n",
    "            \n",
    "ret = SapModel.View.RefreshView(0, False)           "
   ]
  },
  {
   "cell_type": "markdown",
   "metadata": {},
   "source": [
    "## Creación de columnas"
   ]
  },
  {
   "cell_type": "code",
   "execution_count": 5,
   "metadata": {},
   "outputs": [],
   "source": [
    "# Creación de columnas en las intersecciones de las grillas\n",
    "for i in range(1, numx + 1):\n",
    "    for j in range(1, numy + 1):\n",
    "        x_coord = (i - 1) * espaciamientox\n",
    "        y_coord = (j - 1) * espaciamientoy\n",
    "        for k in range(1, pisos + 1):\n",
    "            z_coord1 = hpiso1 * (k - 1)  if k == 1 else hpiso1+hpiso * (k - 2) \n",
    "            z_coord2 = hpiso1  if k == 1 else hpiso1+hpiso * (k - 1) \n",
    "            ret = SapModel.FrameObj.AddByCoord(\n",
    "                x_coord, y_coord, z_coord1, x_coord, y_coord, z_coord2,\n",
    "                \"\", 'ConcCol', '', 'Global')\n",
    "            \n",
    "ret = SapModel.View.RefreshView(0, False)"
   ]
  },
  {
   "cell_type": "markdown",
   "metadata": {},
   "source": [
    "## Creación de losas"
   ]
  },
  {
   "cell_type": "code",
   "execution_count": 6,
   "metadata": {},
   "outputs": [],
   "source": [
    "# Crear las losas en cada piso\n",
    "for piso_actual in range(1, pisos + 1):\n",
    "    if piso_actual == 1:\n",
    "        altura = hpiso1\n",
    "    else:\n",
    "        altura = hpiso *  (piso_actual - 1)+hpiso1\n",
    "\n",
    "    for i in range(numx-1):\n",
    "        for j in range(numy-1):\n",
    "            x0 = i * espaciamientox\n",
    "            x1 = (i + 1) * espaciamientox\n",
    "            y0 = j * espaciamientoy\n",
    "            y1 = (j + 1) * espaciamientoy\n",
    "            x = [x0, x1, x1, x0]\n",
    "            y = [y0, y0, y1, y1]\n",
    "            z = [altura] * 4\n",
    "            nombre_losa = \"F2\"\n",
    "            tipo_seccion = \"Slab1\"\n",
    "\n",
    "            ret = SapModel.AreaObj.AddByCoord(\n",
    "                4, x, y, z, nombre_losa, tipo_seccion\n",
    "            )\n",
    "\n",
    "\n",
    "ret = SapModel.View.RefreshView(0, False)"
   ]
  },
  {
   "cell_type": "markdown",
   "metadata": {},
   "source": [
    "## Creación de Diafragma rígido en cada nivel"
   ]
  },
  {
   "cell_type": "code",
   "execution_count": 7,
   "metadata": {},
   "outputs": [],
   "source": [
    "# Obtención de todos los puntos del modelo\n",
    "[numberPts, ptNames, ptX, ptY, ptZ, ptCsys] = SapModel.PointObj.GetAllPoints()\n",
    "\n",
    "#Asignar diafragma a un punto\n",
    "#ret = SapModel.PointObj.SetDiaphragm(\"2\", 3, \"D1\")\n",
    "\n",
    "numberPts\n",
    "\n",
    "\n",
    "ret = SapModel.View.RefreshView(0, False)"
   ]
  },
  {
   "cell_type": "code",
   "execution_count": 8,
   "metadata": {},
   "outputs": [],
   "source": [
    "# Obtener todos los puntos\n",
    "[numberPts, ptNames, ptX, ptY, ptZ, ptCsys] = SapModel.PointObj.GetAllPoints()\n",
    "\n",
    "# Crear un diccionario para agrupar los puntos por su altura (ptZ)\n",
    "points_by_height = {}\n",
    "\n",
    "for i in range(numberPts):\n",
    "    height = round(ptZ[i], 2)  # Redondear la altura para evitar problemas de precisión\n",
    "    if height not in points_by_height:\n",
    "        points_by_height[height] = []\n",
    "\n",
    "    points_by_height[height].append(ptNames[i])\n",
    "\n",
    "# Asignar diafragma rígido a puntos en la misma altura (excluyendo Z=0)\n",
    "for height, point_names in points_by_height.items():\n",
    "    if height != 0 and len(point_names) > 1:\n",
    "        for point_name in point_names:\n",
    "            ret = SapModel.PointObj.SetDiaphragm(point_name, 3, \"D1\")\n",
    "            if ret != 0:\n",
    "                print(f\"No se pudo asignar el diafragma rígido a {point_name}\")\n",
    "\n",
    "ret = SapModel.View.RefreshView(0, False)                "
   ]
  },
  {
   "cell_type": "markdown",
   "metadata": {},
   "source": [
    "## Asignación de empotramiento en la base"
   ]
  },
  {
   "cell_type": "code",
   "execution_count": 9,
   "metadata": {},
   "outputs": [],
   "source": [
    "# Asignar resitricciones al punto de la Base\n",
    "\n",
    "#Restraint = [True, True, True, True, True, True]\n",
    "#ret = SapModel.PointObj.SetRestraint(point_name, Restraint)"
   ]
  },
  {
   "cell_type": "code",
   "execution_count": 10,
   "metadata": {},
   "outputs": [],
   "source": [
    "# Obtener todos los puntos\n",
    "[numberPts, ptNames, ptX, ptY, ptZ, ptCsys] = SapModel.PointObj.GetAllPoints()\n",
    "\n",
    "# Identificar y asignar empotramiento a los puntos con Z=0\n",
    "for i in range(numberPts):\n",
    "    if ptZ[i] == 0:\n",
    "        point_name = ptNames[i]\n",
    "        Restraint = [True, True, True, True, True, True]\n",
    "        ret = SapModel.PointObj.SetRestraint(point_name, Restraint)\n",
    "\n",
    "ret = SapModel.View.RefreshView(0, False)                "
   ]
  },
  {
   "cell_type": "markdown",
   "metadata": {},
   "source": [
    "## Asignación de brazos rígidos"
   ]
  },
  {
   "cell_type": "code",
   "execution_count": 11,
   "metadata": {},
   "outputs": [],
   "source": [
    "ret = SapModel.SelectObj.All()\n",
    "ret = SapModel.FrameObj.SetEndLengthOffset(\"15\",   # Label del elemento al que se le da brazo rígido, No valido (se aplica a todos al mismo tiempo)\n",
    "                                            False,  # True para que se coloque en la distancia automáticamente\n",
    "                                              0.5, # Distancia de brazo rígido inicial\n",
    "                                              0.5, # Distancia de brazo rígido final\n",
    "                                              0.5, # Rigidez utilizado\n",
    "                                                2) # 0 = object, 1= Group, 2=SelectedObjects\n",
    "#ret = SapModel.SelectObj.All(True)\n",
    "\n",
    "ret = SapModel.FrameObj.SetEndLengthOffset(\"15\",   # Label del elemento al que se le da brazo rígido, No valido (se aplica a todos al mismo tiempo)\n",
    "                                            True,  # True para que se coloque en la distancia automáticamente\n",
    "                                              0.5, # Distancia de brazo rígido inicial\n",
    "                                              0.5, # Distancia de brazo rígido final\n",
    "                                              0.5, # Rigidez utilizado\n",
    "                                                2) # 0 = object, 1= Group, 2=SelectedObjects\n",
    "\n",
    "ret = SapModel.SelectObj.All(True)"
   ]
  },
  {
   "cell_type": "markdown",
   "metadata": {},
   "source": [
    "## Asignación de número de modos y masa sísmica"
   ]
  },
  {
   "cell_type": "code",
   "execution_count": 12,
   "metadata": {},
   "outputs": [
    {
     "ename": "COMError",
     "evalue": "(-2146233077, None, (\"No se puede encontrar el método 'SetNumberModes' en la interfaz o tipo 'ETABSv1.cCaseModalEigen, ETABSv1, Version=1.0.0.0, Culture=neutral, PublicKeyToken=453d728ef24c6f5e'.\", 'mscorlib', None, 0, None))",
     "output_type": "error",
     "traceback": [
      "\u001b[1;31m---------------------------------------------------------------------------\u001b[0m",
      "\u001b[1;31mCOMError\u001b[0m                                  Traceback (most recent call last)",
      "\u001b[1;32md:\\2023 Cursos\\PythonETABS\\MOD 2 MODELO AUTOMATICO 3D.ipynb Cell 21\u001b[0m line \u001b[0;36m1\n\u001b[0;32m      <a href='vscode-notebook-cell:/d%3A/2023%20Cursos/PythonETABS/MOD%202%20MODELO%20AUTOMATICO%203D.ipynb#X26sZmlsZQ%3D%3D?line=0'>1</a>\u001b[0m \u001b[39m#set mass source\u001b[39;00m\n\u001b[0;32m      <a href='vscode-notebook-cell:/d%3A/2023%20Cursos/PythonETABS/MOD%202%20MODELO%20AUTOMATICO%203D.ipynb#X26sZmlsZQ%3D%3D?line=1'>2</a>\u001b[0m \u001b[39m# \u001b[39;00m\n\u001b[0;32m      <a href='vscode-notebook-cell:/d%3A/2023%20Cursos/PythonETABS/MOD%202%20MODELO%20AUTOMATICO%203D.ipynb#X26sZmlsZQ%3D%3D?line=2'>3</a>\u001b[0m ret \u001b[39m=\u001b[39m SapModel\u001b[39m.\u001b[39mPropMaterial\u001b[39m.\u001b[39mSetMassSource(\u001b[39m2\u001b[39m,                        \u001b[39m# 2 es carga especificada, otros 1 y 3\u001b[39;00m\n\u001b[0;32m      <a href='vscode-notebook-cell:/d%3A/2023%20Cursos/PythonETABS/MOD%202%20MODELO%20AUTOMATICO%203D.ipynb#X26sZmlsZQ%3D%3D?line=3'>4</a>\u001b[0m                                        \u001b[39m2\u001b[39m,                        \u001b[39m# 2 es el número de loadpattern\u001b[39;00m\n\u001b[0;32m      <a href='vscode-notebook-cell:/d%3A/2023%20Cursos/PythonETABS/MOD%202%20MODELO%20AUTOMATICO%203D.ipynb#X26sZmlsZQ%3D%3D?line=4'>5</a>\u001b[0m                                        [\u001b[39m\"\u001b[39m\u001b[39mDEAD\u001b[39m\u001b[39m\"\u001b[39m, \u001b[39m\"\u001b[39m\u001b[39mLIVE\u001b[39m\u001b[39m\"\u001b[39m],         \u001b[39m# Cargas de masa sísmica\u001b[39;00m\n\u001b[0;32m      <a href='vscode-notebook-cell:/d%3A/2023%20Cursos/PythonETABS/MOD%202%20MODELO%20AUTOMATICO%203D.ipynb#X26sZmlsZQ%3D%3D?line=5'>6</a>\u001b[0m                                        [\u001b[39m1\u001b[39m, \u001b[39m0.25\u001b[39m])                \u001b[39m# % De carga para cada caso anteriormente señalado\u001b[39;00m\n\u001b[1;32m---> <a href='vscode-notebook-cell:/d%3A/2023%20Cursos/PythonETABS/MOD%202%20MODELO%20AUTOMATICO%203D.ipynb#X26sZmlsZQ%3D%3D?line=9'>10</a>\u001b[0m ret \u001b[39m=\u001b[39m SapModel\u001b[39m.\u001b[39;49mLoadCases\u001b[39m.\u001b[39;49mModalEigen\u001b[39m.\u001b[39;49mSetNumberModes(\u001b[39m\"\u001b[39;49m\u001b[39mModal\u001b[39;49m\u001b[39m\"\u001b[39;49m         \u001b[39m# Nombre del caso modal\u001b[39;49;00m\n\u001b[0;32m     <a href='vscode-notebook-cell:/d%3A/2023%20Cursos/PythonETABS/MOD%202%20MODELO%20AUTOMATICO%203D.ipynb#X26sZmlsZQ%3D%3D?line=10'>11</a>\u001b[0m                                                 , pisos\u001b[39m*\u001b[39;49m\u001b[39m3\u001b[39;49m             \u001b[39m# Número mínimo de modos\u001b[39;49;00m\n\u001b[0;32m     <a href='vscode-notebook-cell:/d%3A/2023%20Cursos/PythonETABS/MOD%202%20MODELO%20AUTOMATICO%203D.ipynb#X26sZmlsZQ%3D%3D?line=11'>12</a>\u001b[0m                                                 , pisos\u001b[39m*\u001b[39;49m\u001b[39m3\u001b[39;49m)            \u001b[39m# Número máximo de modos\u001b[39;00m\n\u001b[0;32m     <a href='vscode-notebook-cell:/d%3A/2023%20Cursos/PythonETABS/MOD%202%20MODELO%20AUTOMATICO%203D.ipynb#X26sZmlsZQ%3D%3D?line=13'>14</a>\u001b[0m ret\n",
      "\u001b[1;31mCOMError\u001b[0m: (-2146233077, None, (\"No se puede encontrar el método 'SetNumberModes' en la interfaz o tipo 'ETABSv1.cCaseModalEigen, ETABSv1, Version=1.0.0.0, Culture=neutral, PublicKeyToken=453d728ef24c6f5e'.\", 'mscorlib', None, 0, None))"
     ]
    }
   ],
   "source": [
    "   #set mass source\n",
    "# \n",
    "ret = SapModel.PropMaterial.SetMassSource(2,                        # 2 es carga especificada, otros 1 y 3\n",
    "                                          2,                        # 2 es el número de loadpattern\n",
    "                                          [\"DEAD\", \"LIVE\"],         # Cargas de masa sísmica\n",
    "                                          [1, 0.25])                # % De carga para cada caso anteriormente señalado\n",
    "\n",
    "\n",
    "\n",
    "ret = SapModel.LoadCases.ModalEigen.SetNumberModes(\"Modal\"         # Nombre del caso modal\n",
    "                                                   , pisos*3             # Número mínimo de modos\n",
    "                                                   , pisos*3)            # Número máximo de modos\n",
    "\n",
    "ret"
   ]
  }
 ],
 "metadata": {
  "kernelspec": {
   "display_name": "Python 3",
   "language": "python",
   "name": "python3"
  },
  "language_info": {
   "codemirror_mode": {
    "name": "ipython",
    "version": 3
   },
   "file_extension": ".py",
   "mimetype": "text/x-python",
   "name": "python",
   "nbconvert_exporter": "python",
   "pygments_lexer": "ipython3",
   "version": "3.9.13"
  },
  "orig_nbformat": 4
 },
 "nbformat": 4,
 "nbformat_minor": 2
}
