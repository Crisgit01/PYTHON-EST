{
 "cells": [
  {
   "cell_type": "markdown",
   "metadata": {},
   "source": [
    "# Código Base"
   ]
  },
  {
   "cell_type": "markdown",
   "metadata": {},
   "source": [
    "## Librerias"
   ]
  },
  {
   "cell_type": "code",
   "execution_count": 16,
   "metadata": {},
   "outputs": [],
   "source": [
    "import os\n",
    "import sys\n",
    "import comtypes.client\n",
    "import math\n",
    "import pandas as pd\n",
    "import numpy as np\n",
    "import matplotlib.pyplot as plt"
   ]
  },
  {
   "cell_type": "markdown",
   "metadata": {},
   "source": [
    "## Conexión con ETABS ya iniciado\n",
    "* False =  Se abre el programa\n",
    "* True = Trabaja con el programa ya iniciado"
   ]
  },
  {
   "cell_type": "code",
   "execution_count": 17,
   "metadata": {},
   "outputs": [],
   "source": [
    "AttachToInstance = False"
   ]
  },
  {
   "cell_type": "markdown",
   "metadata": {},
   "source": [
    "## Arrancar ETABS y dirección de \"SAVE\"\n",
    "\n",
    "* Se especifica de dónde se abre\n",
    "* Se especifica donde se guardará por defecto en caso de no haberlo abierto previamente\n",
    "* Se especifica nombre del archivo en caso se cree un archivo .edb"
   ]
  },
  {
   "cell_type": "code",
   "execution_count": 18,
   "metadata": {},
   "outputs": [
    {
     "data": {
      "text/plain": [
       "0"
      ]
     },
     "execution_count": 18,
     "metadata": {},
     "output_type": "execute_result"
    }
   ],
   "source": [
    "\n",
    "SpecifyPath = True\n",
    "\n",
    "# Especificar la ruta de ETABS a continuación\n",
    "ProgramPath = \"C:\\Program Files\\Computers and Structures\\ETABS 20\\ETABS.exe\"\n",
    "\n",
    "\n",
    "\n",
    "# crear objeto API helper\n",
    "helper = comtypes.client.CreateObject('ETABSv1.Helper')\n",
    "helper = helper.QueryInterface(comtypes.gen.ETABSv1.cHelper)\n",
    "\n",
    "if AttachToInstance:\n",
    "    try:\n",
    "        # obtener el objeto ETABS activo\n",
    "        myETABSObject = helper.GetObject(\"CSI.ETABS.API.ETABSObject\") \n",
    "    except (OSError, comtypes.COMError):\n",
    "        print(\"No running instance of the program found or failed to attach.\")\n",
    "        sys.exit(-1)\n",
    "else:\n",
    "    if SpecifyPath:\n",
    "        try:\n",
    "            # crear una instancia del objeto ETABS a partir de la ruta especificada\n",
    "            myETABSObject = helper.CreateObject(ProgramPath)\n",
    "        except (OSError, comtypes.COMError):\n",
    "            print(\"Cannot start a new instance of the program from \" + ProgramPath)\n",
    "            sys.exit(-1)\n",
    "    else:\n",
    "        try: \n",
    "            # crear una instancia del objeto ETABS a partir del último ETABS instalado\n",
    "            myETABSObject = helper.CreateObjectProgID(\"CSI.ETABS.API.ETABSObject\") \n",
    "        except (OSError, comtypes.COMError):\n",
    "            print(\"Cannot start a new instance of the program.\")\n",
    "            sys.exit(-1)\n",
    "\n",
    "    # Comenzar la aplicacion de ETABS\n",
    "    myETABSObject.ApplicationStart()\n",
    "\n",
    "# Crear un objeto SapModel\n",
    "ret = SapModel = myETABSObject.SapModel\n",
    "\n",
    "# Iniciar Modelo\n",
    "ret = SapModel.InitializeNewModel()\n",
    "\n",
    "ret"
   ]
  },
  {
   "cell_type": "markdown",
   "metadata": {},
   "source": [
    "### Abrir un ETABS existente"
   ]
  },
  {
   "cell_type": "code",
   "execution_count": 13,
   "metadata": {},
   "outputs": [
    {
     "data": {
      "text/plain": [
       "0"
      ]
     },
     "execution_count": 13,
     "metadata": {},
     "output_type": "execute_result"
    }
   ],
   "source": [
    "#FileName=\"C:\\PRUEBACURSO_PYTHON_ETABS\\NOVER.edb\"\n",
    "FileName = \"C:\\\\PRUEBACURSO_PYTHON_ETABS\\\\NOVER.edb\"\n",
    "ret = SapModel.File.OpenFile(FileName)\n",
    "ret"
   ]
  },
  {
   "cell_type": "markdown",
   "metadata": {},
   "source": [
    "## Pasos básicos para iniciar ETABS"
   ]
  },
  {
   "cell_type": "markdown",
   "metadata": {},
   "source": [
    "### Crear grillas\n",
    "* Se crean número de pisos, grillas y espaciamientos\n",
    "* Solo se puede utilizar esto en pies\n",
    "* Solo se puede utilizar antes del newblank"
   ]
  },
  {
   "cell_type": "code",
   "execution_count": 12,
   "metadata": {},
   "outputs": [],
   "source": [
    "# Crear Grillas\n",
    "ret = SapModel.File.NewGridOnly(10,   # Número de pisos\n",
    "                                3*3.28084,   # altura típico de piso a partir del segundo\n",
    "                                4*3.28084,   # Altura del primer nivel\n",
    "                                7,    # Número de grillas en X\n",
    "                                7,     # Número de grillas en Y\n",
    "                                3.5*3.28084,    # Espaciamiento en X\n",
    "                                4*3.28084)    # Espaciamiento en Y"
   ]
  },
  {
   "cell_type": "markdown",
   "metadata": {},
   "source": [
    "### Grilla de pórticos automático"
   ]
  },
  {
   "cell_type": "code",
   "execution_count": 10,
   "metadata": {},
   "outputs": [],
   "source": [
    "ret = SapModel.File.NewSteelDeck(4,12,12,4,4,24,24)"
   ]
  },
  {
   "cell_type": "markdown",
   "metadata": {},
   "source": [
    "### Crear modelo en blanco\n",
    "* El uso de grillas funciona como un NewBlank"
   ]
  },
  {
   "cell_type": "code",
   "execution_count": 17,
   "metadata": {},
   "outputs": [],
   "source": [
    "# Crear un modelo en blanco\n",
    "ret =  SapModel.File.NewBlank()"
   ]
  },
  {
   "cell_type": "markdown",
   "metadata": {},
   "source": [
    "### Colocar unidades"
   ]
  },
  {
   "cell_type": "code",
   "execution_count": 14,
   "metadata": {},
   "outputs": [],
   "source": [
    "# Ton_m_C = 12\n",
    "tonf_m_C = 12\n",
    "ret = SapModel.SetPresentUnits(tonf_m_C)"
   ]
  },
  {
   "cell_type": "markdown",
   "metadata": {},
   "source": [
    "## Establecer número de pisos y alturas"
   ]
  },
  {
   "cell_type": "code",
   "execution_count": 15,
   "metadata": {},
   "outputs": [
    {
     "data": {
      "text/plain": [
       "[('Story1', 'MyStory2', 'MyStory3', 'MyStory4', 'MyStory5', 'MyStory6'),\n",
       " (3.0, 3.0, 3.0, 3.0, 3.0, 3.0),\n",
       " (True, False, False, False, False, False),\n",
       " ('None', 'Story1', 'Story1', 'Story1', 'Story1', 'Story1'),\n",
       " (False, False, False, False, False, False),\n",
       " (0.0, 0.0, 0.0, 0.0, 0.0, 0.0),\n",
       " (65535, 0, 255, 16711935, 16711680, 0),\n",
       " 1]"
      ]
     },
     "execution_count": 15,
     "metadata": {},
     "output_type": "execute_result"
    }
   ],
   "source": [
    "#ret = SapModel.Story.SetElevation(\"Story1\", 3)\n",
    "\n",
    "#ret = SapModel.Story.SetMasterStory(\"Story1\", True)\n",
    "\n",
    "\n",
    "inStoryNames = [\"Story1\", \"MyStory2\", \"MyStory3\", \"MyStory4\", \"MyStory5\", \"MyStory6\"]\n",
    "inStoryHeights = [3, 3, 3, 3, 3, 3]\n",
    "inIsMasterStory = [True, False, False, False, False, False]\n",
    "inSimilarToStory =      [\"None\", \"Story1\", \"Story1\", \"Story1\", \"Story1\", \"Story1\"]\n",
    "inSpliceAbove = [False, False, False, False, False, False]\n",
    "inSpliceHeight = [0,0,0,0,0,0]\n",
    "inColor = [65535, 0, 255, 16711935, 16711680, 0]        \n",
    "\n",
    "ret = SapModel.Story.SetStories_2(0, 6, inStoryNames, inStoryHeights, inIsMasterStory, \n",
    "                                           inSimilarToStory, inSpliceAbove, inSpliceHeight, inColor)\n",
    "\n",
    "ret\n"
   ]
  },
  {
   "cell_type": "markdown",
   "metadata": {},
   "source": [
    "## Creación de materiales\n",
    "\n",
    "### Creación del concreto\n",
    "\n",
    "\n",
    "- Concreto Armado   = 2\n",
    "- Acero de Refuerzo = 6\n",
    "- Albañileria       = 8"
   ]
  },
  {
   "cell_type": "code",
   "execution_count": 17,
   "metadata": {},
   "outputs": [],
   "source": [
    "# Definir Propiedades del Material\n",
    "MATERIAL_CONCRETE = 2\n",
    "fc=2100 # Resistencia del concreto\n",
    "\n",
    "ret = SapModel.PropMaterial.SetMaterial('CONC 210',          # Name\n",
    "                                   MATERIAL_CONCRETE            # Material Type\n",
    "                                        )\n",
    "\n",
    "\n",
    "# Definición de las propiedades no lineales\n",
    "ret = SapModel.PropMaterial.SetOConcrete_1('CONC 210', # Nombre del concreto\n",
    "                                           fc,         # resistencia del concreto\n",
    "                                           False,      # True es sí a ser concreto ligero\n",
    "                                           0,          # FcsFactor (Double)\n",
    "                                           2,          # 0 user defined, 1 tipo simple, 2 Mander\n",
    "                                           2, # 2 Takeda, 3 pivot, 4 concrete, 5 BRB, 6 Degrading, 7 Isotropic, 1 Kinematic, 0 elastic\n",
    "                                           0.002,  # Deformación del concreto en el pico máximo\n",
    "                                           0.0033,  # Deformación última\n",
    "                                           -0.1)  # Pendiente de caída \n",
    "\n",
    "\n",
    "\n",
    "# Asignar propiedades mecanicas isotropicas al material en MPa\n",
    "ret = SapModel.PropMaterial.SetMPIsotropic('CONC 210',            # Name\n",
    "                                    15000*math.sqrt(fc/10)*10,               # E\n",
    "                                    0.2,                # v\n",
    "                                    0.0000055           # T\n",
    "                                    )\n",
    "\n",
    "# cambiar el peso especifico del material ( 1 es peso)\n",
    "ret = SapModel.PropMaterial.SetWeightAndMass('CONC 210', 1, 2.4)\n"
   ]
  },
  {
   "cell_type": "markdown",
   "metadata": {},
   "source": [
    "## Creación del acero de refuerzo"
   ]
  },
  {
   "cell_type": "code",
   "execution_count": 18,
   "metadata": {},
   "outputs": [],
   "source": [
    "# Definir Propiedades del Material\n",
    "MATERIAL_REBAR = 6\n",
    "fy=42000\n",
    "fu=63000\n",
    "fye=fy*1.25\n",
    "fue=fu*1.25\n",
    "ret = SapModel.PropMaterial.SetMaterial('ACERO DE REFUERZO', \n",
    "                                   MATERIAL_REBAR\n",
    "                                 )\n",
    "\n",
    "# Asignar propiedades mecanicas isotropicas al material\n",
    "ret = SapModel.PropMaterial.SetMPIsotropic('ACERO DE REFUERZO', \n",
    "                                    20000000, \n",
    "                                    0.3, \n",
    "                                    0.0000055\n",
    "                                    )\n",
    "\n",
    " # assign other properties\n",
    "ret = SapModel.PropMaterial.SetORebar(\"ACERO DE REFUERZO\", fy, fu, fye, fue,\n",
    "                                       1, # 0 user defined, simple, 2 park\n",
    "                                       1, # 1 kinematic, 2 Takeda, 3 pivot, 4 concrete, 5 BRB, 6 Degrading, 7 Isotropic, 0 elastic \n",
    "                                       0.01, # Deformación de inicio de endurecimiento\n",
    "                                       0.08, # Deformación final\n",
    "                                       False) # True = usa por default caltrans para control las deformaciones "
   ]
  },
  {
   "cell_type": "markdown",
   "metadata": {},
   "source": [
    "## Crear LoadPattern\n",
    "\n",
    "- Dead          = 1\n",
    "- SuperDead     = 2\n",
    "- Live          = 3\n",
    "- ReduceLive    = 4\n",
    "- Quake         = 5\n",
    "- Wind          = 6\n",
    "- Snow          = 7\n",
    "- Other         = 8"
   ]
  },
  {
   "cell_type": "code",
   "execution_count": 26,
   "metadata": {},
   "outputs": [
    {
     "data": {
      "text/plain": [
       "1"
      ]
     },
     "execution_count": 26,
     "metadata": {},
     "output_type": "execute_result"
    }
   ],
   "source": [
    "# Creación de carga viva\n",
    "ret = SapModel.LoadPatterns.Add('LP1',    # Name del Load Pattern\n",
    "                                5,      # Tipo de Load Pattern\n",
    "                                0,      # Multiplicador de peso propio (0) Solo peso propio es 1\n",
    "                                True    # Opcional - True: Crear un nuevo caso de carga\n",
    "                                )\n",
    "\n",
    "ret"
   ]
  },
  {
   "cell_type": "markdown",
   "metadata": {},
   "source": [
    "## Definir masa sísmica"
   ]
  },
  {
   "cell_type": "code",
   "execution_count": 25,
   "metadata": {},
   "outputs": [
    {
     "data": {
      "text/plain": [
       "[('DEAD', 'LIVE'), (1.0, 0.25), 0]"
      ]
     },
     "execution_count": 25,
     "metadata": {},
     "output_type": "execute_result"
    }
   ],
   "source": [
    "   #set mass source\n",
    "# \n",
    "ret = SapModel.PropMaterial.SetMassSource(2,                        # 2 es carga especificada, otros 1 y 3\n",
    "                                          2,                        # 2 es el número de loadpattern\n",
    "                                          [\"DEAD\", \"LIVE\"],         # Cargas de masa sísmica\n",
    "                                          [1, 0.25])                # % De carga para cada caso anteriormente señalado\n",
    "\n",
    "ret"
   ]
  },
  {
   "cell_type": "markdown",
   "metadata": {},
   "source": [
    "## Números de modos"
   ]
  },
  {
   "cell_type": "code",
   "execution_count": 28,
   "metadata": {},
   "outputs": [
    {
     "data": {
      "text/plain": [
       "0"
      ]
     },
     "execution_count": 28,
     "metadata": {},
     "output_type": "execute_result"
    }
   ],
   "source": [
    "ret = SapModel.LoadCases.ModalEigen.SetNumberModes(\"Modal\"         # Nombre del caso modal\n",
    "                                                   , 18             # Número mínimo de modos\n",
    "                                                   , 18)            # Número máximo de modos\n",
    "\n",
    "ret"
   ]
  },
  {
   "cell_type": "markdown",
   "metadata": {},
   "source": [
    "## Definición de vigas y columnas\n",
    "\n",
    "### Definición de vigas"
   ]
  },
  {
   "cell_type": "code",
   "execution_count": 31,
   "metadata": {},
   "outputs": [
    {
     "data": {
      "text/plain": [
       "0"
      ]
     },
     "execution_count": 31,
     "metadata": {},
     "output_type": "execute_result"
    }
   ],
   "source": [
    "# Creación de elemento tipo Frame            \n",
    "# Definir las propiedades de Seccion a un Frame rectangular   \n",
    "ret = SapModel.PropFrame.SetRectangle('V1',       # Name del nuevo frame\n",
    "                                'CONC 210',     # Material\n",
    "                                0.5,         # h\n",
    "                                0.25          # b\n",
    "                                )\n",
    "\n",
    "ret"
   ]
  },
  {
   "cell_type": "code",
   "execution_count": 34,
   "metadata": {},
   "outputs": [
    {
     "data": {
      "text/plain": [
       "0"
      ]
     },
     "execution_count": 34,
     "metadata": {},
     "output_type": "execute_result"
    }
   ],
   "source": [
    "# Acero de refuerzo en vigas\n",
    "\n",
    "ret = SapModel.PropFrame.SetRebarBeam(\"V1\",       # Name de un frame existente\n",
    "                                \"ACERO DE REFUERZO\",    # Material del acero longitudinal\n",
    "                                \"ACERO DE REFUERZO\",    # Material del acero transversal\n",
    "                                0.06,        # Distancia al centro del acero de refuerzo arriba  6cm\n",
    "                                0.06,          # Distancia al centro del acero de refuerzo abajo  6cm\n",
    "                                0.000258,        # Top Left Area\n",
    "                                0.000258,        # Top Right Area\n",
    "                                0.000258,        # Bottom Left Area\n",
    "                                0.000258         # Bottom Right Area\n",
    "                                )\n",
    "\n",
    "ret"
   ]
  },
  {
   "cell_type": "markdown",
   "metadata": {},
   "source": [
    "### Definición de columnas"
   ]
  },
  {
   "cell_type": "code",
   "execution_count": 32,
   "metadata": {},
   "outputs": [],
   "source": [
    "# Creación de elemento tipo Frame\n",
    "# Definir las propiedades de Seccion a un Frame rectangular   \n",
    "ret = SapModel.PropFrame.SetRectangle('C1',       # Name del nuevo frame\n",
    "                                'CONC 210',     # Material\n",
    "                                0.6,         # b\n",
    "                                0.6          # h\n",
    "                                )"
   ]
  },
  {
   "cell_type": "code",
   "execution_count": 36,
   "metadata": {},
   "outputs": [
    {
     "data": {
      "text/plain": [
       "0"
      ]
     },
     "execution_count": 36,
     "metadata": {},
     "output_type": "execute_result"
    }
   ],
   "source": [
    "# Datos extra para Frame Columnas\n",
    "ret = SapModel.PropFrame.SetRebarColumn(\"C1\",     # Name de un frame existente\n",
    "                                \"ACERO DE REFUERZO\",    # Material del acero longitudinal\n",
    "                                \"ACERO DE REFUERZO\",    # Material del acero transversal\n",
    "                                1,          # Pattern  (Rectangular = 1  /   Circular = 2)\n",
    "                                1,          # Tipo de Cofinamiento  (Ties = 1  /   Spiral = 2)\n",
    "                                0.04,       # Recubrimiento de la columna  4cm\n",
    "                                10,         # Solo Aplica para la Columnas Circulares, Numero total de barras\n",
    "                                6,          # Solo Aplica para la Columnas Rectangulares, Numero de barras en el eje local 3\n",
    "                                6,          # Solo Aplica para la Columnas Rectangulares, Numero de barras en el eje local 2\n",
    "                                \"#5\",       # El diametro del acero longitudinal\n",
    "                                \"#5\",       # El diametro del acero transversal\n",
    "                                0.1,        # Espaciamiento de los estribos\n",
    "                                2,          # Numero de estribos alrededor del eje local 2\n",
    "                                2,          # Numero de estribos alrededor del eje local 3\n",
    "                                False)      # True es diseñado y False es revisado\n",
    "\n",
    "ret"
   ]
  },
  {
   "cell_type": "markdown",
   "metadata": {},
   "source": [
    "### Definir modificadores de propiedad a un \"frame\""
   ]
  },
  {
   "cell_type": "code",
   "execution_count": 37,
   "metadata": {},
   "outputs": [],
   "source": [
    "# Definir modificadores de propiedad a un Frame\n",
    "ModValue = [2, 1, 1, 1, 1, 1, 1, 1]\n",
    "ret = SapModel.PropFrame.SetModifiers('V1', ModValue)\n",
    "\n",
    "\n",
    "# Definir modificadores de propiedad a un Frame\n",
    "ModValue = [2, 1, 1, 1, 1, 1, 1, 1]\n",
    "ret = SapModel.PropFrame.SetModifiers('C1', ModValue)"
   ]
  },
  {
   "cell_type": "markdown",
   "metadata": {},
   "source": [
    "## Definir losa y muro\n",
    "\n",
    "Tipos de Losa: \n",
    "- Slab       = 0\n",
    "- Drop       = 1\n",
    "- Ribbed     = 3\n",
    "- Waffle     = 4\n",
    "- Mat        = 5\n",
    "- Footing    = 6\n",
    "\n",
    "Tipo de elemento Área:\n",
    "- ShellThin  = 1\n",
    "- Shellthick = 2\n",
    "- Menbrane   = 3\n",
    "- Layered    = 6\n",
    "\n",
    "Tipo de propiedad (siempre es 1)\n",
    "- Specified      = 1\n",
    "- AutoSelectList = 2"
   ]
  },
  {
   "cell_type": "markdown",
   "metadata": {},
   "source": [
    "### Definición de losa"
   ]
  },
  {
   "cell_type": "code",
   "execution_count": 38,
   "metadata": {},
   "outputs": [],
   "source": [
    "# Definir las propiedades de la Losa Slab\n",
    "ret = SapModel.PropArea.SetSlab(\"Losa Aligerada\",       # Name\n",
    "                        0,                  # Slab Type - Slab\n",
    "                        3,                  # Membrana\n",
    "                        \"CONC 210\",    # Material\n",
    "                        0.0001                  # Thickness\n",
    "                        )"
   ]
  },
  {
   "cell_type": "markdown",
   "metadata": {},
   "source": [
    "### Definición de muro"
   ]
  },
  {
   "cell_type": "code",
   "execution_count": 39,
   "metadata": {},
   "outputs": [],
   "source": [
    "# Definir propiedades de elementos Muro\n",
    "ret = SapModel.PropArea.SetWall(\"Muro15cm\",      # Name\n",
    "                        1,              # Tipo de propiedad\n",
    "                        1,              # Tipo de elemento área   \n",
    "                        \"CONC 210\",         # Material\n",
    "                        0.15              # Espesor\n",
    "                        )"
   ]
  },
  {
   "cell_type": "markdown",
   "metadata": {},
   "source": [
    "### Modificador de propiedad en Muro y Losa\n",
    "\n",
    "* Value(0) Membrane f11 modifier\n",
    "* Value(1) Membrane f22 modifier\n",
    "* Value(2) Membrane f12 modifier\n",
    "* Value(3) Bending m11 modifier\n",
    "* Value(4) Bending m22 modifier\n",
    "* Value(5) Bending m12 modifier\n",
    "* Value(6) Shear v13 modifier\n",
    "* Value(7) Shear v23 modifier\n",
    "* Value(8) Mass modifier\n",
    "* Value(9) Weight modifier"
   ]
  },
  {
   "cell_type": "code",
   "execution_count": 43,
   "metadata": {},
   "outputs": [
    {
     "data": {
      "text/plain": [
       "[(2.0, 2.0, 2.0, 1.0, 1.0, 1.0, 1.0, 2.0, 2.0, 1.0), 0]"
      ]
     },
     "execution_count": 43,
     "metadata": {},
     "output_type": "execute_result"
    }
   ],
   "source": [
    "muroprop = [2, 2, 2, 1, 1, 1, 1, 2, 2,1]\n",
    "ret = SapModel.PropArea.SetModifiers(\"Losa Aligerada\",\n",
    "                                      muroprop)\n",
    "\n",
    "ret"
   ]
  },
  {
   "cell_type": "markdown",
   "metadata": {},
   "source": [
    "## Creación de elementos ( Viga, Columna y Losa)"
   ]
  },
  {
   "cell_type": "markdown",
   "metadata": {},
   "source": [
    "### Creación de viga y columna"
   ]
  },
  {
   "cell_type": "code",
   "execution_count": 44,
   "metadata": {},
   "outputs": [],
   "source": [
    "# Añadir objeto Frame por Coordenadas\n",
    "FrameName1 = ' '\n",
    "FrameName2 = ' '\n",
    "FrameName3 = ' '\n",
    "FrameName4 = ' '\n",
    "FrameName5 = ' '\n",
    "FrameName6 = ' '\n",
    "FrameName7 = ' '\n",
    "FrameName8 = ' '\n",
    "\n",
    "\n",
    "[FrameName1, ret] = SapModel.FrameObj.AddByCoord(0, 0, 0, 0, 0, 3, FrameName1, 'C1', '1', 'Global')\n",
    "[FrameName2, ret] = SapModel.FrameObj.AddByCoord(0, 0, 3, 3, 0, 3, FrameName2, 'V1', '2', 'Global')\n",
    "[FrameName3, ret] = SapModel.FrameObj.AddByCoord(3, 0, 0, 3, 0, 3, FrameName3, 'C1', '3', 'Global')\n",
    "[FrameName4, ret] = SapModel.FrameObj.AddByCoord(0, -3, 0, 0, -3, 3, FrameName4, 'C1', '4', 'Global')\n",
    "[FrameName5, ret] = SapModel.FrameObj.AddByCoord(0, -3, 3, 3, -3, 3, FrameName5, 'V1', '5', 'Global')\n",
    "[FrameName6, ret] = SapModel.FrameObj.AddByCoord(3, -3, 0, 3, -3, 3, FrameName6, 'C1', '6', 'Global')\n",
    "[FrameName7, ret] = SapModel.FrameObj.AddByCoord(0, -3, 3, 0, 0, 3, FrameName7, 'V1', '7', 'Global')\n",
    "[FrameName8, ret] = SapModel.FrameObj.AddByCoord(3, -3, 3, 3, 0, 3, FrameName8, 'V1', '8', 'Global')"
   ]
  },
  {
   "cell_type": "markdown",
   "metadata": {},
   "source": [
    "### Creación de elemento losa y Muro"
   ]
  },
  {
   "cell_type": "markdown",
   "metadata": {},
   "source": [
    "### Creación de losa"
   ]
  },
  {
   "cell_type": "code",
   "execution_count": 45,
   "metadata": {},
   "outputs": [],
   "source": [
    "x=[0, 0, 3, 3]\n",
    "y=[0, -3, -3, 0]\n",
    "z=[3, 3, 3, 3]\n",
    "\n",
    "ret = SapModel.AreaObj.AddByCoord( 4,         # Número de puntos utilizados en x,y,z\n",
    "                                   x,         # Puntos coordenados en la dirección X\n",
    "                                   y,         # Puntos coordenados en la dirección Y\n",
    "                                   z,         # Puntos coordenados en la dirección Z\n",
    "                                   \"F2\",         # Nombre de la losa (no funciona)\n",
    "                                   \"Losa Aligerada\")         # Nombre del tipo de sección"
   ]
  },
  {
   "cell_type": "markdown",
   "metadata": {},
   "source": [
    "### Creación de muro de CA"
   ]
  },
  {
   "cell_type": "code",
   "execution_count": 46,
   "metadata": {},
   "outputs": [],
   "source": [
    "x=[0, 3, 3, 0]\n",
    "y=[0, 0, 0, 0]\n",
    "z=[0, 0, 3, 3]\n",
    "\n",
    "ret = SapModel.AreaObj.AddByCoord( 4,         # Número de puntos utilizados en x,y,z\n",
    "                                   x,         # Puntos coordenados en la dirección X\n",
    "                                   y,         # Puntos coordenados en la dirección Y\n",
    "                                   z,         # Puntos coordenados en la dirección Z\n",
    "                                   \"F2\",         # Nombre de la losa (no funciona)\n",
    "                                   \"Muro15cm\")         # Nombre del tipo de sección"
   ]
  },
  {
   "cell_type": "markdown",
   "metadata": {},
   "source": [
    "## Resfrescar vista"
   ]
  },
  {
   "cell_type": "code",
   "execution_count": 56,
   "metadata": {},
   "outputs": [],
   "source": [
    "ret = SapModel.View.RefreshView(0, False)"
   ]
  },
  {
   "cell_type": "markdown",
   "metadata": {},
   "source": [
    "## Asignar Restricciones"
   ]
  },
  {
   "cell_type": "markdown",
   "metadata": {},
   "source": [
    "### Definir restricción de un punto"
   ]
  },
  {
   "cell_type": "code",
   "execution_count": 53,
   "metadata": {},
   "outputs": [],
   "source": [
    "# Asignar resitricciones al punto de la Base\n",
    "PointName1 = ' '\n",
    "PointName2 = ' '\n",
    "\n",
    "Restraint = [True, True, True, True, True, True]\n",
    "\n",
    "[PointName1, PointName2, ret] = SapModel.FrameObj.GetPoints(FrameName1, PointName1, PointName2)\n",
    "ret = SapModel.PointObj.SetRestraint(PointName1, Restraint)\n",
    "\n",
    "[PointName1, PointName2, ret] = SapModel.FrameObj.GetPoints(FrameName3, PointName1, PointName2)\n",
    "ret = SapModel.PointObj.SetRestraint(PointName1, Restraint)\n",
    "\n",
    "[PointName1, PointName2, ret] = SapModel.FrameObj.GetPoints(FrameName4, PointName1, PointName2)\n",
    "ret = SapModel.PointObj.SetRestraint(PointName1, Restraint)\n",
    "\n",
    "[PointName1, PointName2, ret] = SapModel.FrameObj.GetPoints(FrameName6, PointName1, PointName2)\n",
    "ret = SapModel.PointObj.SetRestraint(PointName1, Restraint)\n",
    "\n"
   ]
  },
  {
   "cell_type": "code",
   "execution_count": 51,
   "metadata": {},
   "outputs": [
    {
     "data": {
      "text/plain": [
       "[(False, False, False, False, False, False), 0]"
      ]
     },
     "execution_count": 51,
     "metadata": {},
     "output_type": "execute_result"
    }
   ],
   "source": [
    "Restraint = [False, False, False, False, False, False]\n",
    "ret = SapModel.PointObj.SetRestraint(\"5\", Restraint)\n",
    "ret"
   ]
  },
  {
   "cell_type": "markdown",
   "metadata": {},
   "source": [
    "### Definir restricción de toda la base"
   ]
  },
  {
   "cell_type": "markdown",
   "metadata": {},
   "source": [
    "## Asignación de brazos rígidos"
   ]
  },
  {
   "cell_type": "code",
   "execution_count": 59,
   "metadata": {},
   "outputs": [
    {
     "data": {
      "text/plain": [
       "0"
      ]
     },
     "execution_count": 59,
     "metadata": {},
     "output_type": "execute_result"
    }
   ],
   "source": [
    "ret = SapModel.SelectObj.All()\n",
    "ret = SapModel.FrameObj.SetEndLengthOffset(\"15\",   # Label del elemento al que se le da brazo rígido, No valido (se aplica a todos al mismo tiempo)\n",
    "                                            True,  # True para que se coloque en la distancia automáticamente\n",
    "                                              0.5, # Distancia de brazo rígido inicial\n",
    "                                              0.5, # Distancia de brazo rígido final\n",
    "                                              0.5, # Rigidez utilizado\n",
    "                                                2) # 0 = object, 1= Group, 2=SelectedObjects\n",
    "#ret = SapModel.SelectObj.All(True)\n",
    "ret"
   ]
  },
  {
   "cell_type": "code",
   "execution_count": 61,
   "metadata": {},
   "outputs": [
    {
     "data": {
      "text/plain": [
       "0"
      ]
     },
     "execution_count": 61,
     "metadata": {},
     "output_type": "execute_result"
    }
   ],
   "source": [
    "ret = SapModel.FrameObj.SetEndLengthOffset(\"ALL\",   # Label del elemento al que se le da brazo rígido, No valido (se aplica a todos al mismo tiempo)\n",
    "                                            True,  # True para que se coloque en la distancia automáticamente\n",
    "                                              0.5, # Distancia de brazo rígido inicial\n",
    "                                              0.5, # Distancia de brazo rígido final\n",
    "                                              0.5, # Rigidez utilizado\n",
    "                                                1) # 0 = object, 1= Group, 2=SelectedObjects\n",
    "\n",
    "ret"
   ]
  },
  {
   "cell_type": "markdown",
   "metadata": {},
   "source": [
    "## Asignación de diafragmas rígidos"
   ]
  },
  {
   "cell_type": "markdown",
   "metadata": {},
   "source": [
    "### Definir y asignar diafragma rígido"
   ]
  },
  {
   "cell_type": "code",
   "execution_count": 63,
   "metadata": {},
   "outputs": [
    {
     "data": {
      "text/plain": [
       "0"
      ]
     },
     "execution_count": 63,
     "metadata": {},
     "output_type": "execute_result"
    }
   ],
   "source": [
    "# ret = SapModel.ConstraintDef.SetDiaphragm(\"Diaph1\") # Ya no sirve, por defecto se crea D1\n",
    "\n",
    "# Crear diafragma\n",
    "ret = SapModel.Diaphragm.SetDiaphragm(\"MyDiaph1A\", True)\n",
    "#Asignar diafragma\n",
    "#ret = SapModel.PointObj.SetDiaphragm(\"2\", eDiaphragmOption.FromShellObject, \"MyDiaph1A\")\n",
    "ret = SapModel.AreaObj.SetDiaphragm(\"1\", \"MyDiaph1A\")\n",
    "\n",
    "ret"
   ]
  },
  {
   "cell_type": "code",
   "execution_count": 64,
   "metadata": {},
   "outputs": [
    {
     "data": {
      "text/plain": [
       "0"
      ]
     },
     "execution_count": 64,
     "metadata": {},
     "output_type": "execute_result"
    }
   ],
   "source": [
    "#Asignar diafragma a un punto\n",
    "ret = SapModel.PointObj.SetDiaphragm(\"2\", 3, \"D1\")\n",
    "ret = SapModel.PointObj.SetDiaphragm(\"3\", 3, \"D1\")\n",
    "ret = SapModel.PointObj.SetDiaphragm(\"6\", 3, \"D1\")\n",
    "ret = SapModel.PointObj.SetDiaphragm(\"7\", 3, \"D1\")\n",
    "ret"
   ]
  },
  {
   "cell_type": "markdown",
   "metadata": {},
   "source": [
    "## Guardar, correr y sacar candado"
   ]
  },
  {
   "cell_type": "markdown",
   "metadata": {},
   "source": [
    "### Guardar programa y colocar ubicación de archivo\n",
    "\n",
    "De preferencia guardar en una carpeta del disco \"C\"\n",
    "Porque en caso de guardarse en otra, al correr el modelo\n",
    "van a salir ventanas emergentes que hay que darles \"ok\"\n",
    "y no correrá de forma automática"
   ]
  },
  {
   "cell_type": "code",
   "execution_count": 65,
   "metadata": {},
   "outputs": [],
   "source": [
    "# GUARDAR\n",
    "# Nombre de la carpeta donde se guardará por defecto si no se especifica ninguna\n",
    "\n",
    "APIPath = 'C:\\PRUEBACURSO_PYTHON_ETABS'\n",
    "if not os.path.exists(APIPath):\n",
    "    try:\n",
    "        os.makedirs(APIPath)\n",
    "    except OSError:\n",
    "        pass\n",
    "ModelPath = APIPath + os.sep + 'MOD1.edb'\n",
    "\n",
    "ret = SapModel.File.Save(ModelPath)"
   ]
  },
  {
   "cell_type": "markdown",
   "metadata": {},
   "source": [
    "### Correr software"
   ]
  },
  {
   "cell_type": "code",
   "execution_count": 66,
   "metadata": {},
   "outputs": [],
   "source": [
    "ret = SapModel.Analyze.RunAnalysis()"
   ]
  },
  {
   "cell_type": "markdown",
   "metadata": {},
   "source": [
    "### Quitar el candado"
   ]
  },
  {
   "cell_type": "code",
   "execution_count": 67,
   "metadata": {},
   "outputs": [],
   "source": [
    "ret = SapModel.SetModelIsLocked(False)"
   ]
  },
  {
   "cell_type": "markdown",
   "metadata": {},
   "source": [
    "### Salir del software"
   ]
  },
  {
   "cell_type": "code",
   "execution_count": 68,
   "metadata": {},
   "outputs": [],
   "source": [
    "#close the program\n",
    "ret = myETABSObject.ApplicationExit(False)\n",
    "SapModel = None\n",
    "myETABSObject = None"
   ]
  },
  {
   "cell_type": "markdown",
   "metadata": {},
   "source": [
    "## Agregar cargas a pórticos y losas"
   ]
  },
  {
   "cell_type": "markdown",
   "metadata": {},
   "source": [
    "### Agregar cargas puntuales en puntos"
   ]
  },
  {
   "cell_type": "code",
   "execution_count": 254,
   "metadata": {},
   "outputs": [],
   "source": [
    "PointName1 = ' '\n",
    "PointName2 = ' '\n",
    "\n",
    "[PointName1, PointName2, ret] = SapModel.FrameObj.GetPoints(FrameName1, PointName1, PointName2)\n",
    "PointLoadValue = [0,0,-10,0,0,0]\n",
    "ret = SapModel.PointObj.SetLoadForce(PointName2, 'DEAD', PointLoadValue)"
   ]
  },
  {
   "cell_type": "markdown",
   "metadata": {},
   "source": [
    "### Agregar cargas distribuida a elementos tipo Frame"
   ]
  },
  {
   "cell_type": "code",
   "execution_count": 261,
   "metadata": {},
   "outputs": [],
   "source": [
    "ret = SapModel.FrameObj.SetLoadDistributed(FrameName2,   #Nombre del elemento\n",
    "                                             'Dead',     #Nombre del tipo de carga\n",
    "                                              1,         #1 fuerza/m y 2 es momento/m\n",
    "                                              9,         #9 es gravedad, el de la pag no sirve\n",
    "                                              0,         #Varia entre 0 y 1, distancia de inicio respecto del inicio\n",
    "                                              1,         #Varia entre 0 y 1, distancia de fin respecto del inicio\n",
    "                                              2,         #Carga inicial\n",
    "                                              2,         #Carga final\n",
    "                                              )\n",
    "\n",
    "                                   "
   ]
  },
  {
   "cell_type": "markdown",
   "metadata": {},
   "source": [
    "### Agregar cargas distrubuidas a elementos tipo AREA"
   ]
  },
  {
   "cell_type": "code",
   "execution_count": 285,
   "metadata": {},
   "outputs": [],
   "source": [
    "ret = SapModel.AreaObj.SetLoadUniform(\"1\",       # El nombre del elemento tipo área\n",
    "                                     \"DEAD\",     # Tipo de carga a aplicar\n",
    "                                      -5,         # Carga a aplicar \n",
    "                                      6,         # 6 Z al ser negativo la carga sup se vuelve gravedad\n",
    "                                      False,\n",
    "                                      \"GLOBAL\")"
   ]
  }
 ],
 "metadata": {
  "kernelspec": {
   "display_name": "Python 3",
   "language": "python",
   "name": "python3"
  },
  "language_info": {
   "codemirror_mode": {
    "name": "ipython",
    "version": 3
   },
   "file_extension": ".py",
   "mimetype": "text/x-python",
   "name": "python",
   "nbconvert_exporter": "python",
   "pygments_lexer": "ipython3",
   "version": "3.9.13"
  },
  "orig_nbformat": 4
 },
 "nbformat": 4,
 "nbformat_minor": 2
}
