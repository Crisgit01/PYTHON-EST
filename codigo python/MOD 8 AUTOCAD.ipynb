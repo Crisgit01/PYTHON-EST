{
 "cells": [
  {
   "cell_type": "code",
   "execution_count": 5,
   "metadata": {},
   "outputs": [
    {
     "name": "stdout",
     "output_type": "stream",
     "text": [
      "Hello, Autocad from Python\n",
      "\n",
      "Drawing3.dwg\n",
      "text: Hi 0! at: (0.0, 0.0, 0.0)\n",
      "text: Hi 1! at: (0.0, 10.0, 0.0)\n",
      "text: Hi 2! at: (0.0, 20.0, 0.0)\n",
      "text: Hi 3! at: (0.0, 30.0, 0.0)\n",
      "text: Hi 4! at: (0.0, 40.0, 0.0)\n",
      "AcDbLine\n",
      "AcDbCircle\n",
      "AcDbLine\n",
      "AcDbCircle\n",
      "AcDbLine\n",
      "AcDbCircle\n",
      "AcDbLine\n",
      "AcDbCircle\n",
      "AcDbLine\n",
      "AcDbCircle\n"
     ]
    }
   ],
   "source": [
    "from pyautocad import Autocad, APoint\n",
    "\n",
    "acad = Autocad()\n",
    "acad.prompt(\"Hello, Autocad from Python\\n\")\n",
    "print(acad.doc.Name)\n",
    "\n",
    "p1 = APoint(0, 0)\n",
    "p2 = APoint(50, 25)\n",
    "for i in range(5):\n",
    "    text = acad.model.AddText('Hi %s!' % i, p1, 2.5)\n",
    "    acad.model.AddLine(p1, p2)\n",
    "    acad.model.AddCircle(p1, 10)\n",
    "    p1.y += 10\n",
    "\n",
    "dp = APoint(10, 0)\n",
    "for text in acad.iter_objects('Text'):\n",
    "    print('text: %s at: %s' % (text.TextString, text.InsertionPoint))\n",
    "    text.InsertionPoint = APoint(text.InsertionPoint) + dp\n",
    "\n",
    "for obj in acad.iter_objects(['Circle', 'Line']):\n",
    "    print(obj.ObjectName)"
   ]
  },
  {
   "cell_type": "code",
   "execution_count": 40,
   "metadata": {},
   "outputs": [
    {
     "name": "stdout",
     "output_type": "stream",
     "text": [
      "Hello, Autocad from Python\n",
      "\n",
      "Drawing3.dwg\n"
     ]
    }
   ],
   "source": [
    "from pyautocad import Autocad, APoint\n",
    "\n",
    "def create_table_lines(acad, width, cell_height, num_rows, num_cols):\n",
    "    # Calcular el ancho de las celdas\n",
    "    cell_width = width / num_cols\n",
    "    \n",
    "    # Crear las líneas verticales\n",
    "    for col in range(num_cols + 1):\n",
    "        x = col * cell_width\n",
    "        p1 = APoint(x, 0)\n",
    "        p2 = APoint(x, num_rows * cell_height)\n",
    "        acad.model.AddLine(p1, p2)\n",
    "    \n",
    "    # Crear las líneas horizontales\n",
    "    for row in range(num_rows + 1):\n",
    "        y = row * cell_height\n",
    "        p1 = APoint(0, y)\n",
    "        p2 = APoint(width, y)\n",
    "        acad.model.AddLine(p1, p2)\n",
    "\n",
    "acad = Autocad()\n",
    "acad.prompt(\"Hello, Autocad from Python\\n\")\n",
    "print(acad.doc.Name)\n",
    "\n",
    "# Especifica el ancho de la tabla, la altura de las celdas, el número de filas y columnas\n",
    "table_width = 1000\n",
    "cell_height = -110\n",
    "num_rows = 5\n",
    "num_cols = 5\n",
    "\n",
    "# Crea la tabla como líneas\n",
    "create_table_lines(acad, table_width, cell_height, num_rows, num_cols)\n",
    "\n"
   ]
  },
  {
   "cell_type": "code",
   "execution_count": 39,
   "metadata": {},
   "outputs": [
    {
     "name": "stdout",
     "output_type": "stream",
     "text": [
      "Hello, Autocad from Python\n",
      "\n",
      "Drawing3.dwg\n"
     ]
    },
    {
     "data": {
      "text/plain": [
       "<comtypes.client.lazybind.Dispatch at 0x28dd6c89040>"
      ]
     },
     "execution_count": 39,
     "metadata": {},
     "output_type": "execute_result"
    }
   ],
   "source": [
    "from pyautocad import Autocad, APoint\n",
    "\n",
    "# Crear una instancia de Autocad\n",
    "acad = Autocad()\n",
    "acad.prompt(\"Hello, Autocad from Python\\n\")\n",
    "print(acad.doc.Name)\n",
    "\n",
    "# Definir el ancho del rectángulo y la altura de la variable \"alturacuadro\"\n",
    "#table_width = 100\n",
    "alturacuadro = 130\n",
    "\n",
    "# Calcular las coordenadas para el rectángulo\n",
    "x1 = 0\n",
    "y1 = 0\n",
    "x2 = table_width\n",
    "y2 = alturacuadro\n",
    "\n",
    "# Agregar las líneas para dibujar el rectángulo\n",
    "acad.model.AddLine(APoint(x1, y1), APoint(x2, y1))\n",
    "acad.model.AddLine(APoint(x2, y1), APoint(x2, y2))\n",
    "acad.model.AddLine(APoint(x2, y2), APoint(x1, y2))\n",
    "acad.model.AddLine(APoint(x1, y2), APoint(x1, y1))\n",
    "\n",
    "# Calcular la posición del centro del rectángulo\n",
    "centro_x = (x1 + x2) / 8\n",
    "centro_y = (y1 + y2) / 3\n",
    "\n",
    "# Agregar el texto en el centro del rectángulo\n",
    "acad.model.AddText(\"CUADRO DE COLUMNAS\", APoint(centro_x, centro_y), 40)\n",
    "\n",
    "\n"
   ]
  },
  {
   "cell_type": "code",
   "execution_count": 17,
   "metadata": {},
   "outputs": [
    {
     "name": "stdout",
     "output_type": "stream",
     "text": [
      "Conectado exitosamente\n"
     ]
    }
   ],
   "source": [
    "import pandas as pd\n",
    "import numpy as np\n",
    "import comtypes.client\n",
    "import sys\n",
    "import matplotlib.pyplot as plt\n",
    "import os\n",
    "import math\n",
    "import openpyxl\n",
    "\n",
    "def connect_to_existing_etabs():\n",
    "    \n",
    "        helper = comtypes.client.CreateObject('ETABSv1.Helper');\n",
    "        helper = helper.QueryInterface(comtypes.gen.ETABSv1.cHelper);\n",
    "\n",
    "        try:\n",
    "            myETABSObject = helper.GetObject(\"CSI.ETABS.API.ETABSObject\");\n",
    "            print(\"Conectado exitosamente\")\n",
    "        except (OSError,comtypes.COMError):\n",
    "            print(\"Ha fallado.\")\n",
    "            sys.exit(-1);\n",
    "\n",
    "        SapModel = myETABSObject.SapModel\n",
    "        return SapModel,myETABSObject,helper;\n",
    "\n",
    "SapModel, myETABSObject, helper = connect_to_existing_etabs()\n",
    "\n",
    "# Ton_m_C = 12\n",
    "tonf_m_C = 12\n",
    "ret = SapModel.SetPresentUnits(tonf_m_C)"
   ]
  },
  {
   "cell_type": "code",
   "execution_count": 26,
   "metadata": {},
   "outputs": [
    {
     "data": {
      "text/plain": [
       "['C1', 'C2', 'C3', 'C4', 'C5']"
      ]
     },
     "execution_count": 26,
     "metadata": {},
     "output_type": "execute_result"
    }
   ],
   "source": [
    "NumberNames = 0\n",
    "MyName = []\n",
    "\n",
    "\n",
    "[NumberNames, MyName,ret] = SapModel.PropFrame.GetNameList(NumberNames, MyName)\n",
    "# Filtrar los valores que comienzan con \"C\"\n",
    "MyName = [name for name in MyName if name.startswith(\"C\")]\n",
    "\n",
    "MyName"
   ]
  },
  {
   "cell_type": "code",
   "execution_count": 28,
   "metadata": {},
   "outputs": [
    {
     "name": "stdout",
     "output_type": "stream",
     "text": [
      "Resultados de t3: [70.0, 65.0, 60.0, 55.0, 60.0]\n",
      "Resultados de t2: [70.0, 65.0, 60.0, 55.0, 60.0]\n"
     ]
    }
   ],
   "source": [
    "FileName = ''\n",
    "MatProp = ''\n",
    "t3 = 0\n",
    "t2 = 0\n",
    "Color = 0\n",
    "Notes = ''\n",
    "GUID = ''\n",
    "\n",
    "# Listas para almacenar los resultados de t3 y t2 para cada valor en MyName\n",
    "t3_values = []\n",
    "t2_values = []\n",
    "\n",
    "for prop_name in MyName:\n",
    "    [FileName, MatProp, t3, t2, Color, Notes, GUID, ret] = SapModel.PropFrame.GetRectangle(prop_name, FileName, MatProp, t3, t2, Color, Notes, GUID)\n",
    "    \n",
    "    # Agregar los valores de t3 y t2 a las listas correspondientes\n",
    "    t3_values.append(t3)\n",
    "    t2_values.append(t2)\n",
    "\n",
    "# Multiplicar los valores por 100 y convertirlos en números float con 1 decimal\n",
    "t3_values = [round(float(value) * 100, 1) for value in t3_values]\n",
    "t2_values = [round(float(value) * 100, 1) for value in t2_values]\n",
    "\n",
    "# Imprimir los resultados de t3 y t2 para cada valor en MyName\n",
    "print(\"Resultados de t3:\", t3_values)\n",
    "print(\"Resultados de t2:\", t2_values)"
   ]
  },
  {
   "cell_type": "code",
   "execution_count": 38,
   "metadata": {},
   "outputs": [
    {
     "name": "stdout",
     "output_type": "stream",
     "text": [
      "Hello, Autocad from Python\n",
      "\n",
      "Drawing3.dwg\n",
      "AcDbLine\n",
      "AcDbLine\n",
      "AcDbLine\n",
      "AcDbLine\n",
      "AcDbLine\n",
      "AcDbLine\n",
      "AcDbLine\n",
      "AcDbLine\n",
      "AcDbLine\n",
      "AcDbLine\n",
      "AcDbLine\n",
      "AcDbLine\n",
      "AcDbLine\n",
      "AcDbLine\n",
      "AcDbLine\n",
      "AcDbLine\n",
      "AcDbLine\n",
      "AcDbLine\n",
      "AcDbLine\n",
      "AcDbLine\n"
     ]
    }
   ],
   "source": [
    "from pyautocad import Autocad, APoint\n",
    "\n",
    "# Crear una instancia de Autocad\n",
    "acad = Autocad()\n",
    "acad.prompt(\"Hello, Autocad from Python\\n\")\n",
    "print(acad.doc.Name)\n",
    "\n",
    "\n",
    "espaciamientoX = 150\n",
    "\n",
    "# Posición inicial\n",
    "posX = 50\n",
    "posY = -85\n",
    "\n",
    "# Iterar a través de los valores de t3 y t2\n",
    "for t3, t2 in zip(t3_values, t2_values):\n",
    "    # Crear los puntos para dibujar el rectángulo con líneas\n",
    "    p1 = APoint(posX, posY)\n",
    "    p2 = APoint(posX + t3, posY)\n",
    "    p3 = APoint(posX + t3, posY + t2)\n",
    "    p4 = APoint(posX, posY + t2)\n",
    "\n",
    "    # Agregar las líneas para dibujar el rectángulo\n",
    "    acad.model.AddLine(p1, p2)\n",
    "    acad.model.AddLine(p2, p3)\n",
    "    acad.model.AddLine(p3, p4)\n",
    "    acad.model.AddLine(p4, p1)\n",
    "    \n",
    "    # Actualizar la posición para el próximo rectángulo\n",
    "    posX += t3 + espaciamientoX\n",
    "\n",
    "# Iterar sobre los objetos para imprimir sus nombres\n",
    "for obj in acad.iter_objects(['Circle', 'Line', 'Text']):\n",
    "    print(obj.ObjectName)"
   ]
  }
 ],
 "metadata": {
  "kernelspec": {
   "display_name": "Python 3",
   "language": "python",
   "name": "python3"
  },
  "language_info": {
   "codemirror_mode": {
    "name": "ipython",
    "version": 3
   },
   "file_extension": ".py",
   "mimetype": "text/x-python",
   "name": "python",
   "nbconvert_exporter": "python",
   "pygments_lexer": "ipython3",
   "version": "3.9.13"
  },
  "orig_nbformat": 4
 },
 "nbformat": 4,
 "nbformat_minor": 2
}
