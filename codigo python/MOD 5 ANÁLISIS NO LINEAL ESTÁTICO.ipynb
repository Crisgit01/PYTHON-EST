{
 "cells": [
  {
   "cell_type": "markdown",
   "metadata": {},
   "source": [
    "## Libreria y conexión con ETABS"
   ]
  },
  {
   "cell_type": "code",
   "execution_count": 1,
   "metadata": {},
   "outputs": [
    {
     "name": "stdout",
     "output_type": "stream",
     "text": [
      "Conectado exitosamente\n"
     ]
    }
   ],
   "source": [
    "import pandas as pd\n",
    "import numpy as np\n",
    "import comtypes.client\n",
    "import sys\n",
    "import matplotlib.pyplot as plt\n",
    "import os\n",
    "import math\n",
    "import openpyxl\n",
    "\n",
    "def connect_to_existing_etabs():\n",
    "    \n",
    "        helper = comtypes.client.CreateObject('ETABSv1.Helper');\n",
    "        helper = helper.QueryInterface(comtypes.gen.ETABSv1.cHelper);\n",
    "\n",
    "        try:\n",
    "            myETABSObject = helper.GetObject(\"CSI.ETABS.API.ETABSObject\");\n",
    "            print(\"Conectado exitosamente\")\n",
    "        except (OSError,comtypes.COMError):\n",
    "            print(\"Ha fallado.\")\n",
    "            sys.exit(-1);\n",
    "\n",
    "        SapModel = myETABSObject.SapModel\n",
    "        return SapModel,myETABSObject,helper;\n",
    "\n",
    "SapModel, myETABSObject, helper = connect_to_existing_etabs()\n",
    "\n",
    "# Ton_m_C = 12\n",
    "tonf_m_C = 12\n",
    "ret = SapModel.SetPresentUnits(tonf_m_C)"
   ]
  },
  {
   "cell_type": "markdown",
   "metadata": {},
   "source": [
    "## Creación del caso no lineal estático por gravedad"
   ]
  },
  {
   "cell_type": "code",
   "execution_count": 5,
   "metadata": {},
   "outputs": [
    {
     "data": {
      "text/plain": [
       "[('Load', 'Load'), ('Dead', 'Live'), (1.0, 0.25), 0]"
      ]
     },
     "execution_count": 5,
     "metadata": {},
     "output_type": "execute_result"
    }
   ],
   "source": [
    "ret = SapModel.LoadCases.StaticNonlinear.SetCase(\"GRAV\")\n",
    "\n",
    "MyLoadType = [\"Load\", \"Load\"]\n",
    "MyLoadName = [\"Dead\", \"Live\"]\n",
    "MySF = [1,0.25]\n",
    "ret = SapModel.LoadCases.StaticNonlinear.SetLoads(\"GRAV\",\n",
    "                                                2,\n",
    "                                                MyLoadType,\n",
    "                                                MyLoadName,\n",
    "                                                MySF)\n",
    "\n",
    "ret"
   ]
  },
  {
   "cell_type": "markdown",
   "metadata": {},
   "source": [
    "## Creación del análisis no lineal de carga lateral"
   ]
  },
  {
   "cell_type": "code",
   "execution_count": 11,
   "metadata": {},
   "outputs": [
    {
     "data": {
      "text/plain": [
       "[('Mode',), ('1',), (1.0,), 0]"
      ]
     },
     "execution_count": 11,
     "metadata": {},
     "output_type": "execute_result"
    }
   ],
   "source": [
    "ret = SapModel.LoadCases.StaticNonlinear.SetCase(\"ANLE XX\")\n",
    "\n",
    "MyLoadType = {\"Mode\"}\n",
    "MyLoadName = {\"1\"}\n",
    "MySF = [1]\n",
    "ret = SapModel.LoadCases.StaticNonlinear.SetLoads(\"ANLE XX\",\n",
    "                                                1,\n",
    "                                                MyLoadType,\n",
    "                                                MyLoadName,\n",
    "                                                MySF)\n",
    "\n",
    "ret"
   ]
  },
  {
   "cell_type": "markdown",
   "metadata": {},
   "source": [
    "## Añadiendo opciones del análisis no lineal estático"
   ]
  },
  {
   "cell_type": "code",
   "execution_count": 13,
   "metadata": {},
   "outputs": [
    {
     "data": {
      "text/plain": [
       "0"
      ]
     },
     "execution_count": 13,
     "metadata": {},
     "output_type": "execute_result"
    }
   ],
   "source": [
    "#AGREGAR CASO INICIAL\n",
    "ret = SapModel.LoadCases.StaticNonlinear.SetInitialCase('ANLE XX','GRAV')\n",
    "\n",
    "\n",
    "# PARÁMETROS DE APLICACIÓN DE CARGAS\n",
    "ret = SapModel.LoadCases.StaticNonlinear.SetLoadApplication('ANLE XX',     # Nombre de la carga a modificar\n",
    "                                                             2,            # Tipo de control (fuerza,displazamiento)\n",
    "                                                             2,            # Tipo de Control de desplazamiento\n",
    "                                                             0.2,          # Desplazamiento de control en metros\n",
    "                                                             1,            # Monitor (1=en un punto objetivo, 2=generalizado)\n",
    "                                                             1,            # Dirección de análisis, 1=U1, 2=U2 (Aplica si el superior es 1)\n",
    "                                                             '90',        # Unique Name del punto a evaluar\n",
    "                                                             '')           # Aplica cuando monitor es 2\n",
    "\n",
    "\n",
    "# RESULTADOS GUARDADOS\n",
    "\n",
    "ret = SapModel.LoadCases.StaticNonlinear.SetResultsSaved('ANLE XX',       # Nombre de la carga a modificar\n",
    "                                                   True,                  # True = Multiple states, False=Final state only    \n",
    "                                                   200,                   # Número mínimo de resultados guardados                                          \n",
    "                                                   400,                   # Número máximo de resultados guardados                                                        \n",
    "                                                   True)                  # True = Solo guardar resultados positivos\n",
    "\n",
    "\n",
    "# PARÁMETROS DE SOLUCIÓN DE CONTROL\n",
    "ret = SapModel.LoadCases.StaticNonlinear.SetSolControlParameters('ANLE XX',  # Nombre de la carga a modificar\n",
    "                                                                  400,       # Número máximo de steps\n",
    "                                                                  200,       # Número máximo de soluciones null (Sin respuesta)\n",
    "                                                                  15,        # Número máximo de iteraciones constantes\n",
    "                                                                  50,        # Iteraciones Newton-Raphson\n",
    "                                                                  0.00005,   # Tolerancia de Convergencia\n",
    "                                                                  True,      # True = Utilizar EventStepping\n",
    "                                                                  0.02,      # Tolerancia al error \n",
    "                                                                  10,        # No hay en esta versión\n",
    "                                                                  0.2,       # No hay en esta versión\n",
    "                                                                  1.7)       # No hay en esta versión\n",
    "\n",
    "\n",
    "ret"
   ]
  },
  {
   "cell_type": "markdown",
   "metadata": {},
   "source": [
    "## Obtención de la curva de capacidad"
   ]
  },
  {
   "cell_type": "code",
   "execution_count": 2,
   "metadata": {},
   "outputs": [
    {
     "data": {
      "text/plain": [
       "0"
      ]
     },
     "execution_count": 2,
     "metadata": {},
     "output_type": "execute_result"
    }
   ],
   "source": [
    "#deselect all cases and combos\n",
    "ret = SapModel.Results.Setup.DeselectAllCasesAndCombosForOutput()\n",
    "\n",
    "#set case selected for output\n",
    "ret = SapModel.Results.Setup.SetCaseSelectedForOutput(\"ANLE XX\")\n",
    "\n",
    "ret=SapModel.DatabaseTables.SetOutputOptionsForDisplay(False,0,0,0,True,0,0,False,0,0,2,2,2,2,1)\n",
    "ret"
   ]
  },
  {
   "cell_type": "code",
   "execution_count": 6,
   "metadata": {},
   "outputs": [
    {
     "data": {
      "text/html": [
       "<div>\n",
       "<style scoped>\n",
       "    .dataframe tbody tr th:only-of-type {\n",
       "        vertical-align: middle;\n",
       "    }\n",
       "\n",
       "    .dataframe tbody tr th {\n",
       "        vertical-align: top;\n",
       "    }\n",
       "\n",
       "    .dataframe thead th {\n",
       "        text-align: right;\n",
       "    }\n",
       "</style>\n",
       "<table border=\"1\" class=\"dataframe\">\n",
       "  <thead>\n",
       "    <tr style=\"text-align: right;\">\n",
       "      <th></th>\n",
       "      <th>OutputCase</th>\n",
       "      <th>CaseType</th>\n",
       "      <th>StepType</th>\n",
       "      <th>StepNumber</th>\n",
       "      <th>StepLabel</th>\n",
       "      <th>FX</th>\n",
       "      <th>FY</th>\n",
       "      <th>FZ</th>\n",
       "      <th>MX</th>\n",
       "      <th>MY</th>\n",
       "      <th>MZ</th>\n",
       "      <th>X</th>\n",
       "      <th>Y</th>\n",
       "      <th>Z</th>\n",
       "    </tr>\n",
       "  </thead>\n",
       "  <tbody>\n",
       "    <tr>\n",
       "      <th>0</th>\n",
       "      <td>ANLE XX</td>\n",
       "      <td>NonStatic</td>\n",
       "      <td>Step By Step</td>\n",
       "      <td>0</td>\n",
       "      <td>None</td>\n",
       "      <td>0</td>\n",
       "      <td>0</td>\n",
       "      <td>815.749</td>\n",
       "      <td>4078.7448</td>\n",
       "      <td>-4282.682</td>\n",
       "      <td>0</td>\n",
       "      <td>0</td>\n",
       "      <td>0</td>\n",
       "      <td>0</td>\n",
       "    </tr>\n",
       "    <tr>\n",
       "      <th>1</th>\n",
       "      <td>ANLE XX</td>\n",
       "      <td>NonStatic</td>\n",
       "      <td>Step By Step</td>\n",
       "      <td>1</td>\n",
       "      <td>None</td>\n",
       "      <td>-13.1145</td>\n",
       "      <td>-1.089E-05</td>\n",
       "      <td>815.749</td>\n",
       "      <td>4078.7449</td>\n",
       "      <td>-4427.4151</td>\n",
       "      <td>65.5751</td>\n",
       "      <td>0</td>\n",
       "      <td>0</td>\n",
       "      <td>0</td>\n",
       "    </tr>\n",
       "    <tr>\n",
       "      <th>2</th>\n",
       "      <td>ANLE XX</td>\n",
       "      <td>NonStatic</td>\n",
       "      <td>Step By Step</td>\n",
       "      <td>2</td>\n",
       "      <td>None</td>\n",
       "      <td>-26.2292</td>\n",
       "      <td>-2.179E-05</td>\n",
       "      <td>815.749</td>\n",
       "      <td>4078.745</td>\n",
       "      <td>-4572.1499</td>\n",
       "      <td>131.1509</td>\n",
       "      <td>0</td>\n",
       "      <td>0</td>\n",
       "      <td>0</td>\n",
       "    </tr>\n",
       "    <tr>\n",
       "      <th>3</th>\n",
       "      <td>ANLE XX</td>\n",
       "      <td>NonStatic</td>\n",
       "      <td>Step By Step</td>\n",
       "      <td>3</td>\n",
       "      <td>None</td>\n",
       "      <td>-39.3451</td>\n",
       "      <td>-3.268E-05</td>\n",
       "      <td>815.749</td>\n",
       "      <td>4078.7452</td>\n",
       "      <td>-4716.8972</td>\n",
       "      <td>196.7324</td>\n",
       "      <td>0</td>\n",
       "      <td>0</td>\n",
       "      <td>0</td>\n",
       "    </tr>\n",
       "    <tr>\n",
       "      <th>4</th>\n",
       "      <td>ANLE XX</td>\n",
       "      <td>NonStatic</td>\n",
       "      <td>Step By Step</td>\n",
       "      <td>4</td>\n",
       "      <td>None</td>\n",
       "      <td>-52.4712</td>\n",
       "      <td>-4.358E-05</td>\n",
       "      <td>815.749</td>\n",
       "      <td>4078.7453</td>\n",
       "      <td>-4861.7576</td>\n",
       "      <td>262.3652</td>\n",
       "      <td>0</td>\n",
       "      <td>0</td>\n",
       "      <td>0</td>\n",
       "    </tr>\n",
       "    <tr>\n",
       "      <th>...</th>\n",
       "      <td>...</td>\n",
       "      <td>...</td>\n",
       "      <td>...</td>\n",
       "      <td>...</td>\n",
       "      <td>...</td>\n",
       "      <td>...</td>\n",
       "      <td>...</td>\n",
       "      <td>...</td>\n",
       "      <td>...</td>\n",
       "      <td>...</td>\n",
       "      <td>...</td>\n",
       "      <td>...</td>\n",
       "      <td>...</td>\n",
       "      <td>...</td>\n",
       "    </tr>\n",
       "    <tr>\n",
       "      <th>198</th>\n",
       "      <td>ANLE XX</td>\n",
       "      <td>NonStatic</td>\n",
       "      <td>Step By Step</td>\n",
       "      <td>198</td>\n",
       "      <td>None</td>\n",
       "      <td>-686.8897</td>\n",
       "      <td>-0.0006</td>\n",
       "      <td>815.749</td>\n",
       "      <td>4078.7515</td>\n",
       "      <td>-11863.2473</td>\n",
       "      <td>3434.572</td>\n",
       "      <td>0</td>\n",
       "      <td>0</td>\n",
       "      <td>0</td>\n",
       "    </tr>\n",
       "    <tr>\n",
       "      <th>199</th>\n",
       "      <td>ANLE XX</td>\n",
       "      <td>NonStatic</td>\n",
       "      <td>Step By Step</td>\n",
       "      <td>199</td>\n",
       "      <td>None</td>\n",
       "      <td>-686.882</td>\n",
       "      <td>-0.0006</td>\n",
       "      <td>815.749</td>\n",
       "      <td>4078.7515</td>\n",
       "      <td>-11863.1622</td>\n",
       "      <td>3434.5335</td>\n",
       "      <td>0</td>\n",
       "      <td>0</td>\n",
       "      <td>0</td>\n",
       "    </tr>\n",
       "    <tr>\n",
       "      <th>200</th>\n",
       "      <td>ANLE XX</td>\n",
       "      <td>NonStatic</td>\n",
       "      <td>Step By Step</td>\n",
       "      <td>200</td>\n",
       "      <td>None</td>\n",
       "      <td>-686.8687</td>\n",
       "      <td>-0.0006</td>\n",
       "      <td>815.749</td>\n",
       "      <td>4078.7515</td>\n",
       "      <td>-11863.0152</td>\n",
       "      <td>3434.4669</td>\n",
       "      <td>0</td>\n",
       "      <td>0</td>\n",
       "      <td>0</td>\n",
       "    </tr>\n",
       "    <tr>\n",
       "      <th>201</th>\n",
       "      <td>RX</td>\n",
       "      <td>Combination</td>\n",
       "      <td>Max</td>\n",
       "      <td>None</td>\n",
       "      <td>None</td>\n",
       "      <td>862.8903</td>\n",
       "      <td>0.0008</td>\n",
       "      <td>0</td>\n",
       "      <td>0.0064</td>\n",
       "      <td>9496.4154</td>\n",
       "      <td>4602.0225</td>\n",
       "      <td>0</td>\n",
       "      <td>0</td>\n",
       "      <td>0</td>\n",
       "    </tr>\n",
       "    <tr>\n",
       "      <th>202</th>\n",
       "      <td>RX</td>\n",
       "      <td>Combination</td>\n",
       "      <td>Min</td>\n",
       "      <td>None</td>\n",
       "      <td>None</td>\n",
       "      <td>-862.8903</td>\n",
       "      <td>-0.0008</td>\n",
       "      <td>0</td>\n",
       "      <td>-0.0064</td>\n",
       "      <td>-9496.4154</td>\n",
       "      <td>-4602.0225</td>\n",
       "      <td>0</td>\n",
       "      <td>0</td>\n",
       "      <td>0</td>\n",
       "    </tr>\n",
       "  </tbody>\n",
       "</table>\n",
       "<p>203 rows × 14 columns</p>\n",
       "</div>"
      ],
      "text/plain": [
       "    OutputCase     CaseType      StepType StepNumber StepLabel         FX  \\\n",
       "0      ANLE XX    NonStatic  Step By Step          0      None          0   \n",
       "1      ANLE XX    NonStatic  Step By Step          1      None   -13.1145   \n",
       "2      ANLE XX    NonStatic  Step By Step          2      None   -26.2292   \n",
       "3      ANLE XX    NonStatic  Step By Step          3      None   -39.3451   \n",
       "4      ANLE XX    NonStatic  Step By Step          4      None   -52.4712   \n",
       "..         ...          ...           ...        ...       ...        ...   \n",
       "198    ANLE XX    NonStatic  Step By Step        198      None  -686.8897   \n",
       "199    ANLE XX    NonStatic  Step By Step        199      None   -686.882   \n",
       "200    ANLE XX    NonStatic  Step By Step        200      None  -686.8687   \n",
       "201         RX  Combination           Max       None      None   862.8903   \n",
       "202         RX  Combination           Min       None      None  -862.8903   \n",
       "\n",
       "             FY       FZ         MX           MY          MZ  X  Y  Z  \n",
       "0             0  815.749  4078.7448    -4282.682           0  0  0  0  \n",
       "1    -1.089E-05  815.749  4078.7449   -4427.4151     65.5751  0  0  0  \n",
       "2    -2.179E-05  815.749   4078.745   -4572.1499    131.1509  0  0  0  \n",
       "3    -3.268E-05  815.749  4078.7452   -4716.8972    196.7324  0  0  0  \n",
       "4    -4.358E-05  815.749  4078.7453   -4861.7576    262.3652  0  0  0  \n",
       "..          ...      ...        ...          ...         ... .. .. ..  \n",
       "198     -0.0006  815.749  4078.7515  -11863.2473    3434.572  0  0  0  \n",
       "199     -0.0006  815.749  4078.7515  -11863.1622   3434.5335  0  0  0  \n",
       "200     -0.0006  815.749  4078.7515  -11863.0152   3434.4669  0  0  0  \n",
       "201      0.0008        0     0.0064    9496.4154   4602.0225  0  0  0  \n",
       "202     -0.0008        0    -0.0064   -9496.4154  -4602.0225  0  0  0  \n",
       "\n",
       "[203 rows x 14 columns]"
      ]
     },
     "execution_count": 6,
     "metadata": {},
     "output_type": "execute_result"
    }
   ],
   "source": [
    "name_table=\"Base Reactions\"\n",
    "#name_table = \"Modal Participating Mass Ratios\"\n",
    "table = SapModel.DatabaseTables.GetTableForDisplayArray(name_table ,GroupName=\"\")    \n",
    "cols=table[2]\n",
    "noOfRows=table[3]\n",
    "vals=np.array_split(table[4],noOfRows)\n",
    "df= pd.DataFrame(vals)\n",
    "df.columns=cols\n",
    "df"
   ]
  },
  {
   "cell_type": "code",
   "execution_count": 16,
   "metadata": {},
   "outputs": [
    {
     "name": "stdout",
     "output_type": "stream",
     "text": [
      "[-0.0, 13.1145, 26.2292, 39.3451, 52.4712, 65.6141, 78.7759, 91.919, 104.9902, 117.829, 130.2961, 142.4101, 153.8789, 165.0524, 175.9338, 186.3513, 196.4978, 206.5437, 216.4518, 226.0844, 235.4085, 244.6721, 253.8596, 262.922, 271.8805, 280.77, 289.5032, 298.0977, 306.5245, 314.8681, 323.1117, 331.2958, 339.4626, 347.6825, 355.8852, 364.0891, 372.2574, 380.3478, 388.3821, 396.3611, 404.3264, 412.2782, 420.2209, 428.1703, 436.0932, 443.9887, 451.8693, 459.508, 466.8994, 474.265, 481.5686, 488.8367, 496.0462, 502.9714, 509.572, 516.1149, 522.6456, 529.1693, 535.5981, 541.7231, 547.8285, 553.9265, 560.0746, 566.2194, 572.3265, 578.4068, 584.4796, 590.4321, 595.9163, 600.6962, 605.1583, 609.4406, 613.5547, 617.6659, 621.68, 625.6814, 629.7273, 633.639, 637.5849, 641.4022, 645.106, 648.7029, 652.3329, 655.9563, 659.3232, 662.3869, 665.2466, 668.004, 670.7258, 673.265, 675.7502, 678.2061, 680.5338, 682.956, 685.3774, 687.6941, 689.9459, 692.1765, 694.2285, 696.1215, 697.8023, 699.3608, 700.7733, 702.0668, 703.3495, 704.5309, 705.5429, 706.5051, 707.4533, 708.3331, 709.1235, 709.8403, 710.5314, 711.1742, 711.7654, 712.2021, 712.5823, 712.9489, 713.3085, 713.6321, 713.8696, 714.0789, 714.2892, 714.5127, 714.7443, 714.9581, 715.1209, 715.2279, 715.3355, 715.3562, 715.3475, 715.2427, 715.0825, 714.8989, 714.6987, 714.4785, 714.1535, 713.755, 713.3372, 712.9131, 712.4541, 711.9915, 711.5099, 710.9999, 710.4405, 709.8637, 709.2793, 708.6944, 708.1009, 707.6682, 707.3134, 706.9397, 706.5451, 706.1533, 705.7474, 705.3203, 704.8758, 704.4084, 703.9384, 703.4699, 703.0014, 702.4836, 701.8967, 701.2015, 700.4841, 699.7653, 699.0373, 698.2537, 697.3379, 696.4093, 695.4773, 694.5658, 693.7897, 693.1092, 692.4263, 691.9505, 691.6315, 691.3119, 691.0083, 690.8114, 690.6287, 690.4507, 690.274, 690.07, 689.8156, 689.4693, 689.1218, 688.8082, 688.5191, 688.1817, 687.8574, 687.5313, 687.3575, 687.2029, 687.0464, 686.9149, 686.8959, 686.8944, 686.8897, 686.882, 686.8687]\n"
     ]
    },
    {
     "data": {
      "text/plain": [
       "201"
      ]
     },
     "execution_count": 16,
     "metadata": {},
     "output_type": "execute_result"
    }
   ],
   "source": [
    "# Filtrar los registros donde 'OutputCase' es igual a 'SX'\n",
    "df = df[df['OutputCase'] == 'ANLE XX']\n",
    "\n",
    "\n",
    "# Obtener solo la columna 7 (en Python, las columnas se indexan desde 0)\n",
    "cortantex = df.iloc[:, 5]  # Index 6 corresponde a la columna 7\n",
    "\n",
    "# Convertir la columna en una lista numérica\n",
    "cortantex = cortantex.tolist()\n",
    "\n",
    "# Agregar el valor 0 al final de la lista\n",
    "#cortantex.append('0')\n",
    "\n",
    "# Convertir todos los elementos a números (incluso el '0' como cadena)\n",
    "cortantex = [float(item) for item in cortantex]\n",
    "\n",
    "# Obtén el último valor de la lista\n",
    "ultimo_valor = cortantex[-1]\n",
    "\n",
    "# Verifica si el último valor es menor que 1\n",
    "if ultimo_valor < 1:\n",
    "    # Multiplica por -1 todos los valores de la lista usando una comprensión de lista\n",
    "    cortantex = [-x for x in cortantex]\n",
    "\n",
    "# Ahora, desplazx contiene la columna 7 como una lista numérica con el valor 0 al final\n",
    "print(cortantex)\n",
    "len(cortantex)"
   ]
  },
  {
   "cell_type": "code",
   "execution_count": 17,
   "metadata": {},
   "outputs": [
    {
     "name": "stdout",
     "output_type": "stream",
     "text": [
      "[0.0, 0.001, 0.002, 0.003, 0.004, 0.005, 0.006, 0.007, 0.008, 0.009, 0.01, 0.011, 0.012, 0.013, 0.014, 0.015, 0.016, 0.017, 0.018, 0.019, 0.02, 0.021, 0.022, 0.023, 0.024, 0.025, 0.026, 0.027, 0.028, 0.029, 0.03, 0.031, 0.032, 0.033, 0.034, 0.035, 0.036, 0.037, 0.038, 0.039, 0.04, 0.041, 0.042, 0.043, 0.044, 0.045, 0.046, 0.047, 0.048, 0.049, 0.05, 0.051, 0.052, 0.053, 0.054, 0.055, 0.056, 0.057, 0.058, 0.059, 0.06, 0.061, 0.062, 0.063, 0.064, 0.065, 0.066, 0.067, 0.068, 0.069, 0.07, 0.071, 0.072, 0.073, 0.074, 0.075, 0.076, 0.077, 0.078, 0.079, 0.08, 0.081, 0.082, 0.083, 0.084, 0.085, 0.086, 0.087, 0.088, 0.089, 0.09, 0.091, 0.092, 0.093, 0.094, 0.095, 0.096, 0.097, 0.098, 0.099, 0.1, 0.101, 0.102, 0.103, 0.104, 0.105, 0.106, 0.107, 0.108, 0.109, 0.11, 0.111, 0.112, 0.113, 0.114, 0.115, 0.116, 0.117, 0.118, 0.119, 0.12, 0.121, 0.122, 0.123, 0.124, 0.125, 0.126, 0.127, 0.128, 0.129, 0.13, 0.131, 0.132, 0.133, 0.134, 0.135, 0.136, 0.137, 0.138, 0.139, 0.14, 0.141, 0.142, 0.143, 0.144, 0.145, 0.146, 0.147, 0.148, 0.149, 0.15, 0.151, 0.152, 0.153, 0.154, 0.155, 0.156, 0.157, 0.158, 0.159, 0.16, 0.161, 0.162, 0.163, 0.164, 0.165, 0.166, 0.167, 0.168, 0.169, 0.17, 0.171, 0.172, 0.173, 0.174, 0.175, 0.176, 0.177, 0.178, 0.179, 0.18, 0.181, 0.182, 0.183, 0.184, 0.185, 0.186, 0.187, 0.188, 0.189, 0.19, 0.191, 0.192, 0.193, 0.194, 0.195, 0.196, 0.197, 0.198, 0.199, 0.2]\n"
     ]
    },
    {
     "data": {
      "text/plain": [
       "201"
      ]
     },
     "execution_count": 17,
     "metadata": {},
     "output_type": "execute_result"
    }
   ],
   "source": [
    "# Inicializamos una lista vacía para almacenar los valores\n",
    "valores = []\n",
    "\n",
    "# Definimos el paso (0.001) y el valor máximo (0.2)\n",
    "paso = 0.001\n",
    "valor_maximo = 0.2+paso\n",
    "\n",
    "# Usamos un bucle while para generar los valores y agregarlos a la lista\n",
    "valor_actual = 0.0\n",
    "while valor_actual <= valor_maximo:\n",
    "    valores.append(round(valor_actual, 3))  # Redondeamos a 3 decimales y agregamos a la lista\n",
    "    valor_actual += paso\n",
    "\n",
    "# Imprimimos la lista resultante\n",
    "print(valores)\n",
    "len(valores)\n"
   ]
  },
  {
   "cell_type": "code",
   "execution_count": 19,
   "metadata": {},
   "outputs": [
    {
     "data": {
      "image/png": "[encoded data removed]",
      "text/plain": [
       "<Figure size 800x600 with 1 Axes>"
      ]
     },
     "metadata": {},
     "output_type": "display_data"
    }
   ],
   "source": [
    "# Valor máximo de desplazx\n",
    "max_cortantex = round(max(cortantex), 3)\n",
    "\n",
    "# Crear el gráfico de dispersión con línea de conexión\n",
    "#plt.figure(figsize=(8, 6))  # Tamaño del gráfico\n",
    "plt.figure(figsize=(8, 6), facecolor='lightgray')  # Tamaño del gráfico y color de fondo gris\n",
    "#plt.scatter(desplazx, niveles, label='', marker='o', color='b', s=15)  # Puntos de dispersión\n",
    "plt.plot(valores,cortantex, label=f'Dirección XX - Vmax = {max_cortantex} tonf', color='b', linewidth=1)  # Línea de conexión\n",
    "plt.xlabel('Desplazamiento máximo (m)', fontsize=10, fontweight='bold')  # Etiqueta del eje X\n",
    "plt.ylabel('Cortante basal (tonf)', fontsize=11, fontweight='bold')  # Etiqueta del eje Y\n",
    "plt.title('Curva de capacidad en XX', fontsize=12, fontweight='bold')  # Título del gráfico\n",
    "\n",
    "# Leyenda en la parte inferior derecha\n",
    "plt.legend(loc='lower right')\n",
    "\n",
    "# Configuraciones adicionales para hacerlo más formal\n",
    "plt.grid(True, linestyle='--')  # Cuadrícula con líneas punteadas\n",
    "plt.tick_params(axis='both', which='major', labelsize=10)  # Tamaño de las etiquetas de los ejes\n",
    "plt.xticks(rotation=0)  # Rotar etiquetas del eje X si es necesario\n",
    "plt.xlim(0, max(valores)*1.1)  # Establecer límites del eje X desde 0 hasta el valor máximo de desplazx\n",
    "plt.ylim(0, max(cortantex)*1.2)  # Establecer límites del eje Y desde 0 hasta el valor máximo de niveles\n",
    "plt.tight_layout()  # Ajustar el diseño\n",
    "\n",
    "# Guardar el gráfico en un archivo (opcional)\n",
    "plt.savefig('curvacapacidadxx.png', dpi=300)\n",
    "\n",
    "# Mostrar el gráfico\n",
    "plt.show()"
   ]
  }
 ],
 "metadata": {
  "kernelspec": {
   "display_name": "Python 3",
   "language": "python",
   "name": "python3"
  },
  "language_info": {
   "codemirror_mode": {
    "name": "ipython",
    "version": 3
   },
   "file_extension": ".py",
   "mimetype": "text/x-python",
   "name": "python",
   "nbconvert_exporter": "python",
   "pygments_lexer": "ipython3",
   "version": "3.9.13"
  },
  "orig_nbformat": 4
 },
 "nbformat": 4,
 "nbformat_minor": 2
}
